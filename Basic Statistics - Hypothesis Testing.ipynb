{
 "cells": [
  {
   "cell_type": "markdown",
   "id": "495a395c-1c9f-47e4-9075-18f6b8314a79",
   "metadata": {},
   "source": [
    "## Wel-Come to Basic Statistics - Hypothesis Testing"
   ]
  },
  {
   "cell_type": "code",
   "execution_count": 3,
   "id": "bdd0c0dd-ec31-4b3f-9fbf-bd5499b23fcf",
   "metadata": {},
   "outputs": [],
   "source": [
    "import pandas as pd\n",
    "import numpy as np\n",
    "import scipy.stats as stats\n",
    "import matplotlib.pyplot as plt\n",
    "import seaborn as sns"
   ]
  },
  {
   "cell_type": "markdown",
   "id": "967a68a8-4293-46fd-a3bc-7b2ded548fbc",
   "metadata": {},
   "source": [
    "###                                                     BUSINESS PROBLEM-1\n",
    "\n"
   ]
  },
  {
   "cell_type": "markdown",
   "id": "40044a8a-60a7-4873-8abc-81bcf0a08cc9",
   "metadata": {},
   "source": [
    "#### BACKGROUND: The Lending Club is a peer-to-peer lending site where members make loans to each other. The site makes anonymized data on loans and borrowers publicly available.\n",
    "\n",
    "    BUSINESS PROBLEM:\n",
    "    Using lending club loans data, the team would like to test below hypothesis on how different\n",
    "    factors effecing each other (Hint: You may leverage hypothesis testing using statistical tests)\n",
    "\n",
    "\n",
    "    a. Intrest rate is varied for different loan amounts (Less intrest charged for high loanamounts)\n",
    "                                                          \n",
    "    b. Loan length is directly effecting intrest rate.\n",
    "                                                          \n",
    "    c. Inrest rate varies for different purpose of loans\n",
    "                  \n",
    "    d. There is relationship between FICO scores and Home Ownership. It means that, People with owning home will have high FICO scores.\n",
    "                  "
   ]
  },
  {
   "cell_type": "code",
   "execution_count": 18,
   "id": "8a998057-2520-4f21-b77d-ce730e023b72",
   "metadata": {},
   "outputs": [
    {
     "data": {
      "text/html": [
       "<div>\n",
       "<style scoped>\n",
       "    .dataframe tbody tr th:only-of-type {\n",
       "        vertical-align: middle;\n",
       "    }\n",
       "\n",
       "    .dataframe tbody tr th {\n",
       "        vertical-align: top;\n",
       "    }\n",
       "\n",
       "    .dataframe thead th {\n",
       "        text-align: right;\n",
       "    }\n",
       "</style>\n",
       "<table border=\"1\" class=\"dataframe\">\n",
       "  <thead>\n",
       "    <tr style=\"text-align: right;\">\n",
       "      <th></th>\n",
       "      <th>Amount.Requested</th>\n",
       "      <th>Amount.Funded.By.Investors</th>\n",
       "      <th>Interest.Rate</th>\n",
       "      <th>Loan.Length</th>\n",
       "      <th>Loan.Purpose</th>\n",
       "      <th>Debt.To.Income.Ratio</th>\n",
       "      <th>State</th>\n",
       "      <th>Home.Ownership</th>\n",
       "      <th>Monthly.Income</th>\n",
       "      <th>FICO.Range</th>\n",
       "      <th>Open.CREDIT.Lines</th>\n",
       "      <th>Revolving.CREDIT.Balance</th>\n",
       "      <th>Inquiries.in.the.Last.6.Months</th>\n",
       "      <th>Employment.Length</th>\n",
       "    </tr>\n",
       "  </thead>\n",
       "  <tbody>\n",
       "    <tr>\n",
       "      <th>0</th>\n",
       "      <td>20000.0</td>\n",
       "      <td>20000.00</td>\n",
       "      <td>8.90%</td>\n",
       "      <td>36 months</td>\n",
       "      <td>debt_consolidation</td>\n",
       "      <td>14.90%</td>\n",
       "      <td>SC</td>\n",
       "      <td>MORTGAGE</td>\n",
       "      <td>6541.67</td>\n",
       "      <td>735-739</td>\n",
       "      <td>14.0</td>\n",
       "      <td>14272.0</td>\n",
       "      <td>2.0</td>\n",
       "      <td>&lt; 1 year</td>\n",
       "    </tr>\n",
       "    <tr>\n",
       "      <th>1</th>\n",
       "      <td>19200.0</td>\n",
       "      <td>19200.00</td>\n",
       "      <td>12.12%</td>\n",
       "      <td>36 months</td>\n",
       "      <td>debt_consolidation</td>\n",
       "      <td>28.36%</td>\n",
       "      <td>TX</td>\n",
       "      <td>MORTGAGE</td>\n",
       "      <td>4583.33</td>\n",
       "      <td>715-719</td>\n",
       "      <td>12.0</td>\n",
       "      <td>11140.0</td>\n",
       "      <td>1.0</td>\n",
       "      <td>2 years</td>\n",
       "    </tr>\n",
       "    <tr>\n",
       "      <th>2</th>\n",
       "      <td>35000.0</td>\n",
       "      <td>35000.00</td>\n",
       "      <td>21.98%</td>\n",
       "      <td>60 months</td>\n",
       "      <td>debt_consolidation</td>\n",
       "      <td>23.81%</td>\n",
       "      <td>CA</td>\n",
       "      <td>MORTGAGE</td>\n",
       "      <td>11500.00</td>\n",
       "      <td>690-694</td>\n",
       "      <td>14.0</td>\n",
       "      <td>21977.0</td>\n",
       "      <td>1.0</td>\n",
       "      <td>2 years</td>\n",
       "    </tr>\n",
       "    <tr>\n",
       "      <th>3</th>\n",
       "      <td>10000.0</td>\n",
       "      <td>9975.00</td>\n",
       "      <td>9.99%</td>\n",
       "      <td>36 months</td>\n",
       "      <td>debt_consolidation</td>\n",
       "      <td>14.30%</td>\n",
       "      <td>KS</td>\n",
       "      <td>MORTGAGE</td>\n",
       "      <td>3833.33</td>\n",
       "      <td>695-699</td>\n",
       "      <td>10.0</td>\n",
       "      <td>9346.0</td>\n",
       "      <td>0.0</td>\n",
       "      <td>5 years</td>\n",
       "    </tr>\n",
       "    <tr>\n",
       "      <th>4</th>\n",
       "      <td>12000.0</td>\n",
       "      <td>12000.00</td>\n",
       "      <td>11.71%</td>\n",
       "      <td>36 months</td>\n",
       "      <td>credit_card</td>\n",
       "      <td>18.78%</td>\n",
       "      <td>NJ</td>\n",
       "      <td>RENT</td>\n",
       "      <td>3195.00</td>\n",
       "      <td>695-699</td>\n",
       "      <td>11.0</td>\n",
       "      <td>14469.0</td>\n",
       "      <td>0.0</td>\n",
       "      <td>9 years</td>\n",
       "    </tr>\n",
       "    <tr>\n",
       "      <th>...</th>\n",
       "      <td>...</td>\n",
       "      <td>...</td>\n",
       "      <td>...</td>\n",
       "      <td>...</td>\n",
       "      <td>...</td>\n",
       "      <td>...</td>\n",
       "      <td>...</td>\n",
       "      <td>...</td>\n",
       "      <td>...</td>\n",
       "      <td>...</td>\n",
       "      <td>...</td>\n",
       "      <td>...</td>\n",
       "      <td>...</td>\n",
       "      <td>...</td>\n",
       "    </tr>\n",
       "    <tr>\n",
       "      <th>2495</th>\n",
       "      <td>30000.0</td>\n",
       "      <td>29950.00</td>\n",
       "      <td>16.77%</td>\n",
       "      <td>60 months</td>\n",
       "      <td>debt_consolidation</td>\n",
       "      <td>19.23%</td>\n",
       "      <td>NY</td>\n",
       "      <td>MORTGAGE</td>\n",
       "      <td>9250.00</td>\n",
       "      <td>705-709</td>\n",
       "      <td>15.0</td>\n",
       "      <td>45880.0</td>\n",
       "      <td>1.0</td>\n",
       "      <td>8 years</td>\n",
       "    </tr>\n",
       "    <tr>\n",
       "      <th>2496</th>\n",
       "      <td>16000.0</td>\n",
       "      <td>16000.00</td>\n",
       "      <td>14.09%</td>\n",
       "      <td>60 months</td>\n",
       "      <td>home_improvement</td>\n",
       "      <td>21.54%</td>\n",
       "      <td>MD</td>\n",
       "      <td>OWN</td>\n",
       "      <td>8903.25</td>\n",
       "      <td>740-744</td>\n",
       "      <td>18.0</td>\n",
       "      <td>18898.0</td>\n",
       "      <td>1.0</td>\n",
       "      <td>10+ years</td>\n",
       "    </tr>\n",
       "    <tr>\n",
       "      <th>2497</th>\n",
       "      <td>10000.0</td>\n",
       "      <td>10000.00</td>\n",
       "      <td>13.99%</td>\n",
       "      <td>36 months</td>\n",
       "      <td>debt_consolidation</td>\n",
       "      <td>4.89%</td>\n",
       "      <td>PA</td>\n",
       "      <td>MORTGAGE</td>\n",
       "      <td>2166.67</td>\n",
       "      <td>680-684</td>\n",
       "      <td>4.0</td>\n",
       "      <td>4544.0</td>\n",
       "      <td>0.0</td>\n",
       "      <td>10+ years</td>\n",
       "    </tr>\n",
       "    <tr>\n",
       "      <th>2498</th>\n",
       "      <td>6000.0</td>\n",
       "      <td>6000.00</td>\n",
       "      <td>12.42%</td>\n",
       "      <td>36 months</td>\n",
       "      <td>major_purchase</td>\n",
       "      <td>16.66%</td>\n",
       "      <td>NJ</td>\n",
       "      <td>RENT</td>\n",
       "      <td>3500.00</td>\n",
       "      <td>675-679</td>\n",
       "      <td>8.0</td>\n",
       "      <td>7753.0</td>\n",
       "      <td>0.0</td>\n",
       "      <td>5 years</td>\n",
       "    </tr>\n",
       "    <tr>\n",
       "      <th>2499</th>\n",
       "      <td>9000.0</td>\n",
       "      <td>5242.75</td>\n",
       "      <td>13.79%</td>\n",
       "      <td>36 months</td>\n",
       "      <td>debt_consolidation</td>\n",
       "      <td>6.76%</td>\n",
       "      <td>NY</td>\n",
       "      <td>RENT</td>\n",
       "      <td>3875.00</td>\n",
       "      <td>670-674</td>\n",
       "      <td>7.0</td>\n",
       "      <td>7589.0</td>\n",
       "      <td>0.0</td>\n",
       "      <td>10+ years</td>\n",
       "    </tr>\n",
       "  </tbody>\n",
       "</table>\n",
       "<p>2500 rows × 14 columns</p>\n",
       "</div>"
      ],
      "text/plain": [
       "      Amount.Requested  Amount.Funded.By.Investors Interest.Rate Loan.Length  \\\n",
       "0              20000.0                    20000.00         8.90%   36 months   \n",
       "1              19200.0                    19200.00        12.12%   36 months   \n",
       "2              35000.0                    35000.00        21.98%   60 months   \n",
       "3              10000.0                     9975.00         9.99%   36 months   \n",
       "4              12000.0                    12000.00        11.71%   36 months   \n",
       "...                ...                         ...           ...         ...   \n",
       "2495           30000.0                    29950.00        16.77%   60 months   \n",
       "2496           16000.0                    16000.00        14.09%   60 months   \n",
       "2497           10000.0                    10000.00        13.99%   36 months   \n",
       "2498            6000.0                     6000.00        12.42%   36 months   \n",
       "2499            9000.0                     5242.75        13.79%   36 months   \n",
       "\n",
       "            Loan.Purpose Debt.To.Income.Ratio State Home.Ownership  \\\n",
       "0     debt_consolidation               14.90%    SC       MORTGAGE   \n",
       "1     debt_consolidation               28.36%    TX       MORTGAGE   \n",
       "2     debt_consolidation               23.81%    CA       MORTGAGE   \n",
       "3     debt_consolidation               14.30%    KS       MORTGAGE   \n",
       "4            credit_card               18.78%    NJ           RENT   \n",
       "...                  ...                  ...   ...            ...   \n",
       "2495  debt_consolidation               19.23%    NY       MORTGAGE   \n",
       "2496    home_improvement               21.54%    MD            OWN   \n",
       "2497  debt_consolidation                4.89%    PA       MORTGAGE   \n",
       "2498      major_purchase               16.66%    NJ           RENT   \n",
       "2499  debt_consolidation                6.76%    NY           RENT   \n",
       "\n",
       "      Monthly.Income FICO.Range  Open.CREDIT.Lines  Revolving.CREDIT.Balance  \\\n",
       "0            6541.67    735-739               14.0                   14272.0   \n",
       "1            4583.33    715-719               12.0                   11140.0   \n",
       "2           11500.00    690-694               14.0                   21977.0   \n",
       "3            3833.33    695-699               10.0                    9346.0   \n",
       "4            3195.00    695-699               11.0                   14469.0   \n",
       "...              ...        ...                ...                       ...   \n",
       "2495         9250.00    705-709               15.0                   45880.0   \n",
       "2496         8903.25    740-744               18.0                   18898.0   \n",
       "2497         2166.67    680-684                4.0                    4544.0   \n",
       "2498         3500.00    675-679                8.0                    7753.0   \n",
       "2499         3875.00    670-674                7.0                    7589.0   \n",
       "\n",
       "      Inquiries.in.the.Last.6.Months Employment.Length  \n",
       "0                                2.0          < 1 year  \n",
       "1                                1.0           2 years  \n",
       "2                                1.0           2 years  \n",
       "3                                0.0           5 years  \n",
       "4                                0.0           9 years  \n",
       "...                              ...               ...  \n",
       "2495                             1.0           8 years  \n",
       "2496                             1.0         10+ years  \n",
       "2497                             0.0         10+ years  \n",
       "2498                             0.0           5 years  \n",
       "2499                             0.0         10+ years  \n",
       "\n",
       "[2500 rows x 14 columns]"
      ]
     },
     "execution_count": 18,
     "metadata": {},
     "output_type": "execute_result"
    }
   ],
   "source": [
    "#Importing LoansData \n",
    "loans_data=pd.read_csv('LoansData.csv')\n",
    "loans_data"
   ]
  },
  {
   "cell_type": "markdown",
   "id": "75417570-cad2-4b4e-83da-4d0b24afad00",
   "metadata": {},
   "source": [
    "#### Data Preparing "
   ]
  },
  {
   "cell_type": "code",
   "execution_count": 15,
   "id": "03d85d17-957c-4535-ae69-b13fb6baa0ee",
   "metadata": {},
   "outputs": [
    {
     "data": {
      "text/plain": [
       "Amount.Requested                  0.04\n",
       "Amount.Funded.By.Investors        0.04\n",
       "Interest.Rate                     0.08\n",
       "Loan.Length                       0.00\n",
       "Loan.Purpose                      0.00\n",
       "Debt.To.Income.Ratio              0.04\n",
       "State                             0.00\n",
       "Home.Ownership                    0.04\n",
       "Monthly.Income                    0.04\n",
       "FICO.Range                        0.08\n",
       "Open.CREDIT.Lines                 0.12\n",
       "Revolving.CREDIT.Balance          0.12\n",
       "Inquiries.in.the.Last.6.Months    0.12\n",
       "Employment.Length                 3.08\n",
       "dtype: float64"
      ]
     },
     "execution_count": 15,
     "metadata": {},
     "output_type": "execute_result"
    }
   ],
   "source": [
    "nas=loans_data.isnull().sum()\n",
    "na=loans_data.shape[0]\n",
    "nan=(nas/na)*100\n",
    "nan"
   ]
  },
  {
   "cell_type": "markdown",
   "id": "5a43bd95-f251-4f44-82f8-ccbb9a740759",
   "metadata": {},
   "source": [
    "#### Hence,There are null values but null values are less then 5% that why i am going to drop the null values.."
   ]
  },
  {
   "cell_type": "code",
   "execution_count": 55,
   "id": "731f58c0-c423-4383-8e85-8e43d663c6d1",
   "metadata": {},
   "outputs": [],
   "source": [
    "loans_data.dropna(inplace=True)"
   ]
  },
  {
   "cell_type": "code",
   "execution_count": 56,
   "id": "d9a0e828-1e99-4cda-9b8f-8b1276dd12e1",
   "metadata": {},
   "outputs": [
    {
     "data": {
      "text/plain": [
       "Index(['Amount_Requested', 'Amount_Funded_By_Investors', 'Interest_Rate',\n",
       "       'Loan_Length', 'Loan_Purpose', 'Debt_To_Income_Ratio', 'State',\n",
       "       'Home_Ownership', 'Monthly_Income', 'FICO_Range', 'Open_CREDIT_Lines',\n",
       "       'Revolving_CREDIT_Balance', 'Inquiries_in_the_Last_6_Months',\n",
       "       'Employment_Length', 'Fico'],\n",
       "      dtype='object')"
      ]
     },
     "execution_count": 56,
     "metadata": {},
     "output_type": "execute_result"
    }
   ],
   "source": [
    "loans_data.columns"
   ]
  },
  {
   "cell_type": "code",
   "execution_count": 22,
   "id": "db8b2ecd-dfff-4c87-92c6-ebda2b28d25f",
   "metadata": {},
   "outputs": [],
   "source": [
    "#Replaceing the columns names\n",
    "loans_data.columns=loans_data.columns.str.replace('.','_')"
   ]
  },
  {
   "cell_type": "code",
   "execution_count": 23,
   "id": "b9f12882-4754-485e-87e4-adecc48a73b5",
   "metadata": {},
   "outputs": [
    {
     "data": {
      "text/html": [
       "<div>\n",
       "<style scoped>\n",
       "    .dataframe tbody tr th:only-of-type {\n",
       "        vertical-align: middle;\n",
       "    }\n",
       "\n",
       "    .dataframe tbody tr th {\n",
       "        vertical-align: top;\n",
       "    }\n",
       "\n",
       "    .dataframe thead th {\n",
       "        text-align: right;\n",
       "    }\n",
       "</style>\n",
       "<table border=\"1\" class=\"dataframe\">\n",
       "  <thead>\n",
       "    <tr style=\"text-align: right;\">\n",
       "      <th></th>\n",
       "      <th>Amount_Requested</th>\n",
       "      <th>Amount_Funded_By_Investors</th>\n",
       "      <th>Interest_Rate</th>\n",
       "      <th>Loan_Length</th>\n",
       "      <th>Loan_Purpose</th>\n",
       "      <th>Debt_To_Income_Ratio</th>\n",
       "      <th>State</th>\n",
       "      <th>Home_Ownership</th>\n",
       "      <th>Monthly_Income</th>\n",
       "      <th>FICO_Range</th>\n",
       "      <th>Open_CREDIT_Lines</th>\n",
       "      <th>Revolving_CREDIT_Balance</th>\n",
       "      <th>Inquiries_in_the_Last_6_Months</th>\n",
       "      <th>Employment_Length</th>\n",
       "    </tr>\n",
       "  </thead>\n",
       "  <tbody>\n",
       "    <tr>\n",
       "      <th>0</th>\n",
       "      <td>20000.0</td>\n",
       "      <td>20000.00</td>\n",
       "      <td>8.90%</td>\n",
       "      <td>36 months</td>\n",
       "      <td>debt_consolidation</td>\n",
       "      <td>14.90%</td>\n",
       "      <td>SC</td>\n",
       "      <td>MORTGAGE</td>\n",
       "      <td>6541.67</td>\n",
       "      <td>735-739</td>\n",
       "      <td>14.0</td>\n",
       "      <td>14272.0</td>\n",
       "      <td>2.0</td>\n",
       "      <td>&lt; 1 year</td>\n",
       "    </tr>\n",
       "    <tr>\n",
       "      <th>1</th>\n",
       "      <td>19200.0</td>\n",
       "      <td>19200.00</td>\n",
       "      <td>12.12%</td>\n",
       "      <td>36 months</td>\n",
       "      <td>debt_consolidation</td>\n",
       "      <td>28.36%</td>\n",
       "      <td>TX</td>\n",
       "      <td>MORTGAGE</td>\n",
       "      <td>4583.33</td>\n",
       "      <td>715-719</td>\n",
       "      <td>12.0</td>\n",
       "      <td>11140.0</td>\n",
       "      <td>1.0</td>\n",
       "      <td>2 years</td>\n",
       "    </tr>\n",
       "    <tr>\n",
       "      <th>2</th>\n",
       "      <td>35000.0</td>\n",
       "      <td>35000.00</td>\n",
       "      <td>21.98%</td>\n",
       "      <td>60 months</td>\n",
       "      <td>debt_consolidation</td>\n",
       "      <td>23.81%</td>\n",
       "      <td>CA</td>\n",
       "      <td>MORTGAGE</td>\n",
       "      <td>11500.00</td>\n",
       "      <td>690-694</td>\n",
       "      <td>14.0</td>\n",
       "      <td>21977.0</td>\n",
       "      <td>1.0</td>\n",
       "      <td>2 years</td>\n",
       "    </tr>\n",
       "    <tr>\n",
       "      <th>3</th>\n",
       "      <td>10000.0</td>\n",
       "      <td>9975.00</td>\n",
       "      <td>9.99%</td>\n",
       "      <td>36 months</td>\n",
       "      <td>debt_consolidation</td>\n",
       "      <td>14.30%</td>\n",
       "      <td>KS</td>\n",
       "      <td>MORTGAGE</td>\n",
       "      <td>3833.33</td>\n",
       "      <td>695-699</td>\n",
       "      <td>10.0</td>\n",
       "      <td>9346.0</td>\n",
       "      <td>0.0</td>\n",
       "      <td>5 years</td>\n",
       "    </tr>\n",
       "    <tr>\n",
       "      <th>4</th>\n",
       "      <td>12000.0</td>\n",
       "      <td>12000.00</td>\n",
       "      <td>11.71%</td>\n",
       "      <td>36 months</td>\n",
       "      <td>credit_card</td>\n",
       "      <td>18.78%</td>\n",
       "      <td>NJ</td>\n",
       "      <td>RENT</td>\n",
       "      <td>3195.00</td>\n",
       "      <td>695-699</td>\n",
       "      <td>11.0</td>\n",
       "      <td>14469.0</td>\n",
       "      <td>0.0</td>\n",
       "      <td>9 years</td>\n",
       "    </tr>\n",
       "    <tr>\n",
       "      <th>...</th>\n",
       "      <td>...</td>\n",
       "      <td>...</td>\n",
       "      <td>...</td>\n",
       "      <td>...</td>\n",
       "      <td>...</td>\n",
       "      <td>...</td>\n",
       "      <td>...</td>\n",
       "      <td>...</td>\n",
       "      <td>...</td>\n",
       "      <td>...</td>\n",
       "      <td>...</td>\n",
       "      <td>...</td>\n",
       "      <td>...</td>\n",
       "      <td>...</td>\n",
       "    </tr>\n",
       "    <tr>\n",
       "      <th>2495</th>\n",
       "      <td>30000.0</td>\n",
       "      <td>29950.00</td>\n",
       "      <td>16.77%</td>\n",
       "      <td>60 months</td>\n",
       "      <td>debt_consolidation</td>\n",
       "      <td>19.23%</td>\n",
       "      <td>NY</td>\n",
       "      <td>MORTGAGE</td>\n",
       "      <td>9250.00</td>\n",
       "      <td>705-709</td>\n",
       "      <td>15.0</td>\n",
       "      <td>45880.0</td>\n",
       "      <td>1.0</td>\n",
       "      <td>8 years</td>\n",
       "    </tr>\n",
       "    <tr>\n",
       "      <th>2496</th>\n",
       "      <td>16000.0</td>\n",
       "      <td>16000.00</td>\n",
       "      <td>14.09%</td>\n",
       "      <td>60 months</td>\n",
       "      <td>home_improvement</td>\n",
       "      <td>21.54%</td>\n",
       "      <td>MD</td>\n",
       "      <td>OWN</td>\n",
       "      <td>8903.25</td>\n",
       "      <td>740-744</td>\n",
       "      <td>18.0</td>\n",
       "      <td>18898.0</td>\n",
       "      <td>1.0</td>\n",
       "      <td>10+ years</td>\n",
       "    </tr>\n",
       "    <tr>\n",
       "      <th>2497</th>\n",
       "      <td>10000.0</td>\n",
       "      <td>10000.00</td>\n",
       "      <td>13.99%</td>\n",
       "      <td>36 months</td>\n",
       "      <td>debt_consolidation</td>\n",
       "      <td>4.89%</td>\n",
       "      <td>PA</td>\n",
       "      <td>MORTGAGE</td>\n",
       "      <td>2166.67</td>\n",
       "      <td>680-684</td>\n",
       "      <td>4.0</td>\n",
       "      <td>4544.0</td>\n",
       "      <td>0.0</td>\n",
       "      <td>10+ years</td>\n",
       "    </tr>\n",
       "    <tr>\n",
       "      <th>2498</th>\n",
       "      <td>6000.0</td>\n",
       "      <td>6000.00</td>\n",
       "      <td>12.42%</td>\n",
       "      <td>36 months</td>\n",
       "      <td>major_purchase</td>\n",
       "      <td>16.66%</td>\n",
       "      <td>NJ</td>\n",
       "      <td>RENT</td>\n",
       "      <td>3500.00</td>\n",
       "      <td>675-679</td>\n",
       "      <td>8.0</td>\n",
       "      <td>7753.0</td>\n",
       "      <td>0.0</td>\n",
       "      <td>5 years</td>\n",
       "    </tr>\n",
       "    <tr>\n",
       "      <th>2499</th>\n",
       "      <td>9000.0</td>\n",
       "      <td>5242.75</td>\n",
       "      <td>13.79%</td>\n",
       "      <td>36 months</td>\n",
       "      <td>debt_consolidation</td>\n",
       "      <td>6.76%</td>\n",
       "      <td>NY</td>\n",
       "      <td>RENT</td>\n",
       "      <td>3875.00</td>\n",
       "      <td>670-674</td>\n",
       "      <td>7.0</td>\n",
       "      <td>7589.0</td>\n",
       "      <td>0.0</td>\n",
       "      <td>10+ years</td>\n",
       "    </tr>\n",
       "  </tbody>\n",
       "</table>\n",
       "<p>2500 rows × 14 columns</p>\n",
       "</div>"
      ],
      "text/plain": [
       "      Amount_Requested  Amount_Funded_By_Investors Interest_Rate Loan_Length  \\\n",
       "0              20000.0                    20000.00         8.90%   36 months   \n",
       "1              19200.0                    19200.00        12.12%   36 months   \n",
       "2              35000.0                    35000.00        21.98%   60 months   \n",
       "3              10000.0                     9975.00         9.99%   36 months   \n",
       "4              12000.0                    12000.00        11.71%   36 months   \n",
       "...                ...                         ...           ...         ...   \n",
       "2495           30000.0                    29950.00        16.77%   60 months   \n",
       "2496           16000.0                    16000.00        14.09%   60 months   \n",
       "2497           10000.0                    10000.00        13.99%   36 months   \n",
       "2498            6000.0                     6000.00        12.42%   36 months   \n",
       "2499            9000.0                     5242.75        13.79%   36 months   \n",
       "\n",
       "            Loan_Purpose Debt_To_Income_Ratio State Home_Ownership  \\\n",
       "0     debt_consolidation               14.90%    SC       MORTGAGE   \n",
       "1     debt_consolidation               28.36%    TX       MORTGAGE   \n",
       "2     debt_consolidation               23.81%    CA       MORTGAGE   \n",
       "3     debt_consolidation               14.30%    KS       MORTGAGE   \n",
       "4            credit_card               18.78%    NJ           RENT   \n",
       "...                  ...                  ...   ...            ...   \n",
       "2495  debt_consolidation               19.23%    NY       MORTGAGE   \n",
       "2496    home_improvement               21.54%    MD            OWN   \n",
       "2497  debt_consolidation                4.89%    PA       MORTGAGE   \n",
       "2498      major_purchase               16.66%    NJ           RENT   \n",
       "2499  debt_consolidation                6.76%    NY           RENT   \n",
       "\n",
       "      Monthly_Income FICO_Range  Open_CREDIT_Lines  Revolving_CREDIT_Balance  \\\n",
       "0            6541.67    735-739               14.0                   14272.0   \n",
       "1            4583.33    715-719               12.0                   11140.0   \n",
       "2           11500.00    690-694               14.0                   21977.0   \n",
       "3            3833.33    695-699               10.0                    9346.0   \n",
       "4            3195.00    695-699               11.0                   14469.0   \n",
       "...              ...        ...                ...                       ...   \n",
       "2495         9250.00    705-709               15.0                   45880.0   \n",
       "2496         8903.25    740-744               18.0                   18898.0   \n",
       "2497         2166.67    680-684                4.0                    4544.0   \n",
       "2498         3500.00    675-679                8.0                    7753.0   \n",
       "2499         3875.00    670-674                7.0                    7589.0   \n",
       "\n",
       "      Inquiries_in_the_Last_6_Months Employment_Length  \n",
       "0                                2.0          < 1 year  \n",
       "1                                1.0           2 years  \n",
       "2                                1.0           2 years  \n",
       "3                                0.0           5 years  \n",
       "4                                0.0           9 years  \n",
       "...                              ...               ...  \n",
       "2495                             1.0           8 years  \n",
       "2496                             1.0         10+ years  \n",
       "2497                             0.0         10+ years  \n",
       "2498                             0.0           5 years  \n",
       "2499                             0.0         10+ years  \n",
       "\n",
       "[2500 rows x 14 columns]"
      ]
     },
     "execution_count": 23,
     "metadata": {},
     "output_type": "execute_result"
    }
   ],
   "source": [
    "loans_data"
   ]
  },
  {
   "cell_type": "code",
   "execution_count": null,
   "id": "45aa3c51-e2cc-4435-9787-e85b42cbecab",
   "metadata": {},
   "outputs": [],
   "source": []
  },
  {
   "cell_type": "code",
   "execution_count": 29,
   "id": "042df1d8-bd7f-4273-9234-9188b651622d",
   "metadata": {},
   "outputs": [
    {
     "data": {
      "text/html": [
       "<div>\n",
       "<style scoped>\n",
       "    .dataframe tbody tr th:only-of-type {\n",
       "        vertical-align: middle;\n",
       "    }\n",
       "\n",
       "    .dataframe tbody tr th {\n",
       "        vertical-align: top;\n",
       "    }\n",
       "\n",
       "    .dataframe thead th {\n",
       "        text-align: right;\n",
       "    }\n",
       "</style>\n",
       "<table border=\"1\" class=\"dataframe\">\n",
       "  <thead>\n",
       "    <tr style=\"text-align: right;\">\n",
       "      <th></th>\n",
       "      <th>Amount_Requested</th>\n",
       "      <th>Amount_Funded_By_Investors</th>\n",
       "      <th>Monthly_Income</th>\n",
       "      <th>Open_CREDIT_Lines</th>\n",
       "      <th>Revolving_CREDIT_Balance</th>\n",
       "      <th>Inquiries_in_the_Last_6_Months</th>\n",
       "    </tr>\n",
       "  </thead>\n",
       "  <tbody>\n",
       "    <tr>\n",
       "      <th>count</th>\n",
       "      <td>2499.000000</td>\n",
       "      <td>2499.000000</td>\n",
       "      <td>2499.000000</td>\n",
       "      <td>2497.000000</td>\n",
       "      <td>2497.000000</td>\n",
       "      <td>2497.000000</td>\n",
       "    </tr>\n",
       "    <tr>\n",
       "      <th>mean</th>\n",
       "      <td>12405.462185</td>\n",
       "      <td>12002.374186</td>\n",
       "      <td>5688.931321</td>\n",
       "      <td>10.072887</td>\n",
       "      <td>15223.184622</td>\n",
       "      <td>0.906688</td>\n",
       "    </tr>\n",
       "    <tr>\n",
       "      <th>std</th>\n",
       "      <td>7802.933666</td>\n",
       "      <td>7746.767348</td>\n",
       "      <td>3963.118185</td>\n",
       "      <td>4.507416</td>\n",
       "      <td>18281.015258</td>\n",
       "      <td>1.231149</td>\n",
       "    </tr>\n",
       "    <tr>\n",
       "      <th>min</th>\n",
       "      <td>1000.000000</td>\n",
       "      <td>-0.010000</td>\n",
       "      <td>588.500000</td>\n",
       "      <td>2.000000</td>\n",
       "      <td>0.000000</td>\n",
       "      <td>0.000000</td>\n",
       "    </tr>\n",
       "    <tr>\n",
       "      <th>25%</th>\n",
       "      <td>6000.000000</td>\n",
       "      <td>6000.000000</td>\n",
       "      <td>3500.000000</td>\n",
       "      <td>7.000000</td>\n",
       "      <td>5584.000000</td>\n",
       "      <td>0.000000</td>\n",
       "    </tr>\n",
       "    <tr>\n",
       "      <th>50%</th>\n",
       "      <td>10000.000000</td>\n",
       "      <td>10000.000000</td>\n",
       "      <td>5000.000000</td>\n",
       "      <td>9.000000</td>\n",
       "      <td>10948.000000</td>\n",
       "      <td>0.000000</td>\n",
       "    </tr>\n",
       "    <tr>\n",
       "      <th>75%</th>\n",
       "      <td>17000.000000</td>\n",
       "      <td>16000.000000</td>\n",
       "      <td>6800.000000</td>\n",
       "      <td>13.000000</td>\n",
       "      <td>18861.000000</td>\n",
       "      <td>1.000000</td>\n",
       "    </tr>\n",
       "    <tr>\n",
       "      <th>max</th>\n",
       "      <td>35000.000000</td>\n",
       "      <td>35000.000000</td>\n",
       "      <td>102750.000000</td>\n",
       "      <td>38.000000</td>\n",
       "      <td>270800.000000</td>\n",
       "      <td>9.000000</td>\n",
       "    </tr>\n",
       "  </tbody>\n",
       "</table>\n",
       "</div>"
      ],
      "text/plain": [
       "       Amount_Requested  Amount_Funded_By_Investors  Monthly_Income  \\\n",
       "count       2499.000000                 2499.000000     2499.000000   \n",
       "mean       12405.462185                12002.374186     5688.931321   \n",
       "std         7802.933666                 7746.767348     3963.118185   \n",
       "min         1000.000000                   -0.010000      588.500000   \n",
       "25%         6000.000000                 6000.000000     3500.000000   \n",
       "50%        10000.000000                10000.000000     5000.000000   \n",
       "75%        17000.000000                16000.000000     6800.000000   \n",
       "max        35000.000000                35000.000000   102750.000000   \n",
       "\n",
       "       Open_CREDIT_Lines  Revolving_CREDIT_Balance  \\\n",
       "count        2497.000000               2497.000000   \n",
       "mean           10.072887              15223.184622   \n",
       "std             4.507416              18281.015258   \n",
       "min             2.000000                  0.000000   \n",
       "25%             7.000000               5584.000000   \n",
       "50%             9.000000              10948.000000   \n",
       "75%            13.000000              18861.000000   \n",
       "max            38.000000             270800.000000   \n",
       "\n",
       "       Inquiries_in_the_Last_6_Months  \n",
       "count                     2497.000000  \n",
       "mean                         0.906688  \n",
       "std                          1.231149  \n",
       "min                          0.000000  \n",
       "25%                          0.000000  \n",
       "50%                          0.000000  \n",
       "75%                          1.000000  \n",
       "max                          9.000000  "
      ]
     },
     "execution_count": 29,
     "metadata": {},
     "output_type": "execute_result"
    }
   ],
   "source": [
    "loans_data.describe()"
   ]
  },
  {
   "cell_type": "code",
   "execution_count": 57,
   "id": "5e002465-34fa-452f-ab8d-50764a538fcc",
   "metadata": {},
   "outputs": [
    {
     "data": {
      "text/plain": [
       "<Axes: >"
      ]
     },
     "execution_count": 57,
     "metadata": {},
     "output_type": "execute_result"
    },
    {
     "data": {
      "image/png": "[encoded data removed]",
      "text/plain": [
       "<Figure size 1500x800 with 1 Axes>"
      ]
     },
     "metadata": {},
     "output_type": "display_data"
    }
   ],
   "source": [
    "import matplotlib.pyplot as plot\n",
    "\n",
    "loans_data.plot(kind='box',figsize=(15,8))"
   ]
  },
  {
   "cell_type": "markdown",
   "id": "3864b94c-61db-48c9-8a96-8dc1f1173309",
   "metadata": {},
   "source": [
    "#### There are some outliers, but I am not going to remove or change the values because that may affect the data"
   ]
  },
  {
   "cell_type": "code",
   "execution_count": 58,
   "id": "25409a89-730e-48f7-a892-c953a3836635",
   "metadata": {},
   "outputs": [
    {
     "data": {
      "text/plain": [
       "0"
      ]
     },
     "execution_count": 58,
     "metadata": {},
     "output_type": "execute_result"
    }
   ],
   "source": [
    "loans_data.duplicated().sum()\n"
   ]
  },
  {
   "cell_type": "code",
   "execution_count": 42,
   "id": "29ad64b8-65fd-41c5-a54e-96833e199998",
   "metadata": {},
   "outputs": [
    {
     "data": {
      "text/plain": [
       "Amount_Requested                  float64\n",
       "Amount_Funded_By_Investors        float64\n",
       "Interest_Rate                      object\n",
       "Loan_Length                        object\n",
       "Loan_Purpose                       object\n",
       "Debt_To_Income_Ratio               object\n",
       "State                              object\n",
       "Home_Ownership                     object\n",
       "Monthly_Income                    float64\n",
       "FICO_Range                         object\n",
       "Open_CREDIT_Lines                 float64\n",
       "Revolving_CREDIT_Balance          float64\n",
       "Inquiries_in_the_Last_6_Months    float64\n",
       "Employment_Length                  object\n",
       "dtype: object"
      ]
     },
     "execution_count": 42,
     "metadata": {},
     "output_type": "execute_result"
    }
   ],
   "source": [
    "loans_data.dtypes"
   ]
  },
  {
   "cell_type": "code",
   "execution_count": 44,
   "id": "4faf2d6b-7d15-4b19-be43-8641cd356090",
   "metadata": {},
   "outputs": [],
   "source": [
    "loans_data.Interest_Rate = pd.to_numeric(loans_data.Interest_Rate.str.replace('%',''))\n",
    "loans_data.Loan_Length = pd.to_numeric(loans_data.Loan_Length.str.replace(' months',''))"
   ]
  },
  {
   "cell_type": "code",
   "execution_count": 46,
   "id": "cb2466d4-80f9-4db7-820c-2165b7de54f3",
   "metadata": {},
   "outputs": [],
   "source": [
    "Fico = loans_data.FICO_Range.str.split('-',expand=True).astype('float64')"
   ]
  },
  {
   "cell_type": "code",
   "execution_count": 49,
   "id": "92443f35-e383-4857-a56d-8a03950ff4a5",
   "metadata": {},
   "outputs": [],
   "source": [
    "Fico.columns = ('Low','High')\n",
    "loans_data['Fico'] = (Fico.Low + Fico.High)/2"
   ]
  },
  {
   "cell_type": "code",
   "execution_count": 50,
   "id": "7ee52c6e-e340-44cc-982e-3ee9280f861e",
   "metadata": {},
   "outputs": [
    {
     "data": {
      "text/html": [
       "<div>\n",
       "<style scoped>\n",
       "    .dataframe tbody tr th:only-of-type {\n",
       "        vertical-align: middle;\n",
       "    }\n",
       "\n",
       "    .dataframe tbody tr th {\n",
       "        vertical-align: top;\n",
       "    }\n",
       "\n",
       "    .dataframe thead th {\n",
       "        text-align: right;\n",
       "    }\n",
       "</style>\n",
       "<table border=\"1\" class=\"dataframe\">\n",
       "  <thead>\n",
       "    <tr style=\"text-align: right;\">\n",
       "      <th></th>\n",
       "      <th>Amount_Requested</th>\n",
       "      <th>Amount_Funded_By_Investors</th>\n",
       "      <th>Interest_Rate</th>\n",
       "      <th>Loan_Length</th>\n",
       "      <th>Loan_Purpose</th>\n",
       "      <th>Debt_To_Income_Ratio</th>\n",
       "      <th>State</th>\n",
       "      <th>Home_Ownership</th>\n",
       "      <th>Monthly_Income</th>\n",
       "      <th>FICO_Range</th>\n",
       "      <th>Open_CREDIT_Lines</th>\n",
       "      <th>Revolving_CREDIT_Balance</th>\n",
       "      <th>Inquiries_in_the_Last_6_Months</th>\n",
       "      <th>Employment_Length</th>\n",
       "      <th>Fico</th>\n",
       "    </tr>\n",
       "  </thead>\n",
       "  <tbody>\n",
       "    <tr>\n",
       "      <th>0</th>\n",
       "      <td>20000.0</td>\n",
       "      <td>20000.0</td>\n",
       "      <td>8.9</td>\n",
       "      <td>36</td>\n",
       "      <td>debt_consolidation</td>\n",
       "      <td>14.90%</td>\n",
       "      <td>SC</td>\n",
       "      <td>MORTGAGE</td>\n",
       "      <td>6541.67</td>\n",
       "      <td>735-739</td>\n",
       "      <td>14.0</td>\n",
       "      <td>14272.0</td>\n",
       "      <td>2.0</td>\n",
       "      <td>&lt; 1 year</td>\n",
       "      <td>737.0</td>\n",
       "    </tr>\n",
       "  </tbody>\n",
       "</table>\n",
       "</div>"
      ],
      "text/plain": [
       "   Amount_Requested  Amount_Funded_By_Investors  Interest_Rate  Loan_Length  \\\n",
       "0           20000.0                     20000.0            8.9           36   \n",
       "\n",
       "         Loan_Purpose Debt_To_Income_Ratio State Home_Ownership  \\\n",
       "0  debt_consolidation               14.90%    SC       MORTGAGE   \n",
       "\n",
       "   Monthly_Income FICO_Range  Open_CREDIT_Lines  Revolving_CREDIT_Balance  \\\n",
       "0         6541.67    735-739               14.0                   14272.0   \n",
       "\n",
       "   Inquiries_in_the_Last_6_Months Employment_Length   Fico  \n",
       "0                             2.0          < 1 year  737.0  "
      ]
     },
     "execution_count": 50,
     "metadata": {},
     "output_type": "execute_result"
    }
   ],
   "source": [
    "loans_data.head(1)"
   ]
  },
  {
   "cell_type": "markdown",
   "id": "24836c14-e9f6-49e4-848b-76bdd66382ac",
   "metadata": {},
   "source": [
    "#### Let's begin with the BUSINESS PROBLEM-1"
   ]
  },
  {
   "cell_type": "markdown",
   "id": "de4cae0d-b5e8-42ee-9af9-a301972c4bda",
   "metadata": {},
   "source": [
    "#### a. Intrest rate is varied for different loan amounts (Less intrest charged for high loanamounts)"
   ]
  },
  {
   "cell_type": "markdown",
   "id": "9c17b50a-0f14-410b-b375-cc549e5e22ee",
   "metadata": {},
   "source": [
    "### Null hypothesis and Alternate hypothesis are as below\n",
    "\n",
    "\n",
    "#### Null Hypothesis (H₀):  Intrest rate is not varied for different loan amounts (Less intrest charged for high loanamounts)\n",
    "\n",
    "\n",
    "#### Alternative Hypothesis (Hₐ):  Intrest rate is varied for different loan amounts (Less intrest charged for high loanamounts)\n",
    "\n",
    "\n",
    "### *Confidence level is = 95%*\n",
    "\n",
    "\n",
    "### *Significant level is (100-95=5%)*\n",
    "\n",
    "#### *The significance level is 5% (0.05)*\n",
    "\n",
    "\n",
    "### *P-critical = 0.05%*\n",
    "\n"
   ]
  },
  {
   "cell_type": "code",
   "execution_count": null,
   "id": "38bc73a4-bc33-40cf-b911-da9af2072d83",
   "metadata": {},
   "outputs": [],
   "source": []
  },
  {
   "cell_type": "markdown",
   "id": "22ef991b-0991-4ac8-8c6c-cfd2935dbad3",
   "metadata": {},
   "source": [
    "### Conducting the test"
   ]
  },
  {
   "cell_type": "code",
   "execution_count": 61,
   "id": "b40f9566-10ad-41cf-a5d3-99a5486bba4a",
   "metadata": {},
   "outputs": [],
   "source": [
    "IR=stats.pearsonr(loans_data.Interest_Rate,loans_data.Amount_Funded_By_Investors)"
   ]
  },
  {
   "cell_type": "code",
   "execution_count": 62,
   "id": "e08f3871-5a66-46f5-8ea7-f87e64a41383",
   "metadata": {},
   "outputs": [
    {
     "data": {
      "text/plain": [
       "PearsonRResult(statistic=0.33159553110364515, pvalue=5.064256950495792e-63)"
      ]
     },
     "execution_count": 62,
     "metadata": {},
     "output_type": "execute_result"
    }
   ],
   "source": [
    "IR"
   ]
  },
  {
   "cell_type": "markdown",
   "id": "1480fa4d-93c7-4940-abc3-2e2733342374",
   "metadata": {},
   "source": [
    "#### Comparing p-value with p-critical"
   ]
  },
  {
   "cell_type": "code",
   "execution_count": 64,
   "id": "0dc2efff-8744-4c25-bd10-2cb87e36975b",
   "metadata": {},
   "outputs": [
    {
     "name": "stdout",
     "output_type": "stream",
     "text": [
      "We reject null hypothesis\n",
      " Conclusion: Intrest rate is varied for different loan amounts (Less intrest charged for high loanamounts)\n"
     ]
    }
   ],
   "source": [
    "p=IR.pvalue\n",
    "if p<0.05:\n",
    "    print('We reject null hypothesis\\n Conclusion: Intrest rate is varied for different loan amounts (Less intrest charged for high loanamounts)')\n",
    "else:\n",
    "    print('We failed to reject null hypothesis\\n Conclusion: Intrest rate is not varied for different loan amounts (Less intrest charged for high loanamounts)')"
   ]
  },
  {
   "cell_type": "code",
   "execution_count": null,
   "id": "12118d1c-b2e9-4f1a-88fe-feb378141f3e",
   "metadata": {},
   "outputs": [],
   "source": []
  },
  {
   "cell_type": "markdown",
   "id": "983a0ceb-1ed0-4258-83db-19ee99a48fa6",
   "metadata": {},
   "source": [
    "#### b. Loan length is directly effecting intrest rate"
   ]
  },
  {
   "cell_type": "markdown",
   "id": "661b2301-d426-48c1-a5ab-abcd8e822299",
   "metadata": {},
   "source": [
    "### Null hypothesis and Alternate hypothesis are as below\n",
    "\n",
    "\n",
    "#### Null Hypothesis (H₀):  Loan length is directly effecting intrest rate\n",
    "\n",
    "\n",
    "#### Alternative Hypothesis (Hₐ):  Loan length is not directly effecting intrest rate\n",
    "\n",
    "### *Confidence level is = 95%*\n",
    "\n",
    "\n",
    "### *Significant level is (100-95=5%)*\n",
    "\n",
    "#### *The significance level is 5% (0.05)*\n",
    "\n",
    "\n",
    "### *P-critical = 0.05%*\n",
    "\n"
   ]
  },
  {
   "cell_type": "code",
   "execution_count": null,
   "id": "9fdaefe8-703e-4033-964a-169997110c9a",
   "metadata": {},
   "outputs": [],
   "source": []
  },
  {
   "cell_type": "markdown",
   "id": "bf44b27c-6388-4c56-8056-2bfea4222a42",
   "metadata": {},
   "source": [
    "#### Conducting Test"
   ]
  },
  {
   "cell_type": "code",
   "execution_count": 66,
   "id": "a2a50a36-8836-4551-9d62-e2485e6d73eb",
   "metadata": {},
   "outputs": [],
   "source": [
    "EIR=stats.pearsonr(loans_data.Interest_Rate,loans_data.Loan_Length)"
   ]
  },
  {
   "cell_type": "code",
   "execution_count": 68,
   "id": "67fb7d0e-c2c2-48e3-b791-10277683f7a6",
   "metadata": {},
   "outputs": [
    {
     "data": {
      "text/plain": [
       "PearsonRResult(statistic=0.4250573823094766, pvalue=1.7938010673412537e-106)"
      ]
     },
     "execution_count": 68,
     "metadata": {},
     "output_type": "execute_result"
    }
   ],
   "source": [
    "EIR"
   ]
  },
  {
   "cell_type": "code",
   "execution_count": null,
   "id": "f693eafc-ee11-4eed-9516-9164d9dfb2d2",
   "metadata": {},
   "outputs": [],
   "source": []
  },
  {
   "cell_type": "markdown",
   "id": "9adaee76-45db-48aa-9ba7-e552954fb96b",
   "metadata": {},
   "source": [
    "#### Comparing p-value with p-critical"
   ]
  },
  {
   "cell_type": "code",
   "execution_count": 97,
   "id": "b1befb0b-a15c-4e7a-80f0-532f34ae6114",
   "metadata": {},
   "outputs": [
    {
     "name": "stdout",
     "output_type": "stream",
     "text": [
      "We reject null hypothesis\n",
      " Conclusion: Loan length is not directly effecting intrest rate \n"
     ]
    }
   ],
   "source": [
    "p=EIR.pvalue\n",
    "if p<0.05:\n",
    "    print('We reject null hypothesis\\n Conclusion: Loan length is not directly effecting intrest rate ')\n",
    "else:\n",
    "    print('We failed to reject null hypothesis\\n Conclusion: Loan length is directly effecting intrest rate')"
   ]
  },
  {
   "cell_type": "code",
   "execution_count": null,
   "id": "be9978a8-3761-4489-80b4-f4e2ccff8c0c",
   "metadata": {},
   "outputs": [],
   "source": []
  },
  {
   "cell_type": "markdown",
   "id": "74857143-4b41-4c64-895a-7cdb5065093b",
   "metadata": {},
   "source": [
    "#### c. Inrest rate varies for different purpose of loans"
   ]
  },
  {
   "cell_type": "markdown",
   "id": "8e1131f7-af39-46ef-9d51-87e2d400fd08",
   "metadata": {},
   "source": [
    "### Null hypothesis and Alternate hypothesis are as below\n",
    "\n",
    "\n",
    "#### Null Hypothesis (H₀):   Inrest rate varies for different purpose of loans\n",
    "\n",
    "\n",
    "#### Alternative Hypothesis (Hₐ):   Inrest rate is not varies for different purpose of loans\n",
    "\n",
    "### *Confidence level is = 95%*\n",
    "\n",
    "\n",
    "### *Significant level is (100-95=5%)*\n",
    "\n",
    "#### *The significance level is 5% (0.05)*\n",
    "\n",
    "\n",
    "### *P-critical = 0.05%*\n",
    "\n"
   ]
  },
  {
   "cell_type": "markdown",
   "id": "e2c8ec71-cb76-4bcd-b586-6e2c9e1c315e",
   "metadata": {},
   "source": [
    "### Data Set"
   ]
  },
  {
   "cell_type": "code",
   "execution_count": 96,
   "id": "d5c99819-73ab-4930-a5dc-1f01664d5f03",
   "metadata": {},
   "outputs": [
    {
     "data": {
      "text/plain": [
       "array(['debt_consolidation', 'credit_card', 'other', 'moving', 'car',\n",
       "       'vacation', 'home_improvement', 'house', 'major_purchase',\n",
       "       'educational', 'medical', 'wedding', 'small_business',\n",
       "       'renewable_energy'], dtype=object)"
      ]
     },
     "execution_count": 96,
     "metadata": {},
     "output_type": "execute_result"
    }
   ],
   "source": [
    "loans_data['Loan_Purpose'].unique()"
   ]
  },
  {
   "cell_type": "code",
   "execution_count": 79,
   "id": "f8de99f5-d06b-4c24-abac-5283c622132d",
   "metadata": {},
   "outputs": [],
   "source": [
    "lp1 = loans_data.loc[loans_data.Loan_Purpose == 'debt_consolidation','Interest_Rate']\n",
    "lp2 = loans_data.loc[loans_data.Loan_Purpose == 'credit_card','Interest_Rate']\n",
    "lp3 = loans_data.loc[loans_data.Loan_Purpose == 'other','Interest_Rate']\n",
    "lp4 = loans_data.loc[loans_data.Loan_Purpose == 'moving','Interest_Rate']\n",
    "lp5 = loans_data.loc[loans_data.Loan_Purpose == 'car','Interest_Rate']\n",
    "lp6 = loans_data.loc[loans_data.Loan_Purpose == 'vacation','Interest_Rate']\n",
    "lp7 = loans_data.loc[loans_data.Loan_Purpose == 'home_improvement','Interest_Rate']\n",
    "lp8 = loans_data.loc[loans_data.Loan_Purpose == 'house','Interest_Rate']\n",
    "lp9 = loans_data.loc[loans_data.Loan_Purpose == 'major_purchase','Interest_Rate']\n",
    "lp10 = loans_data.loc[loans_data.Loan_Purpose == 'educational','Interest_Rate']\n",
    "lp11 = loans_data.loc[loans_data.Loan_Purpose == 'medical','Interest_Rate']\n",
    "lp12 = loans_data.loc[loans_data.Loan_Purpose == 'wedding','Interest_Rate']\n",
    "lp13 = loans_data.loc[loans_data.Loan_Purpose == 'small_business','Interest_Rate']\n",
    "lp14 = loans_data.loc[loans_data.Loan_Purpose == 'small_business','Interest_Rate']\n",
    "                                                                   "
   ]
  },
  {
   "cell_type": "markdown",
   "id": "e14758d5-8dd8-40f8-be1f-e67aa30d3781",
   "metadata": {},
   "source": [
    "#### Conducting test"
   ]
  },
  {
   "cell_type": "code",
   "execution_count": 77,
   "id": "fc7d6433-7162-46fd-b01e-cce1969972ea",
   "metadata": {},
   "outputs": [],
   "source": [
    "pol=stats.f_oneway(lp1,lp2,lp3,lp4,lp5,lp6,lp7,lp8,lp9,lp10,lp11,lp12,lp13,lp14)"
   ]
  },
  {
   "cell_type": "code",
   "execution_count": 78,
   "id": "0a9de795-7088-4810-8635-1e1770532441",
   "metadata": {},
   "outputs": [
    {
     "data": {
      "text/plain": [
       "F_onewayResult(statistic=7.13356625879892, pvalue=8.074920725223914e-14)"
      ]
     },
     "execution_count": 78,
     "metadata": {},
     "output_type": "execute_result"
    }
   ],
   "source": [
    "pol"
   ]
  },
  {
   "cell_type": "markdown",
   "id": "16f27184-42c8-481f-8e96-ad828a58795c",
   "metadata": {},
   "source": [
    "#### Comparing p-value with p-critical"
   ]
  },
  {
   "cell_type": "code",
   "execution_count": 98,
   "id": "ac16c45e-22e6-442d-b64a-51f6fe0b9e8f",
   "metadata": {},
   "outputs": [
    {
     "name": "stdout",
     "output_type": "stream",
     "text": [
      "We reject null hypothesis\n",
      " Conclusion: Inrest rate will not varies for different purpose of loans \n"
     ]
    }
   ],
   "source": [
    "p=EIR.pvalue\n",
    "if p<0.05:\n",
    "    print('We reject null hypothesis\\n Conclusion: Inrest rate will not varies for different purpose of loans ')\n",
    "else:\n",
    "    print('We failed to reject null hypothesis\\n Conclusion: Inrest rate varies for different purpose of loans')"
   ]
  },
  {
   "cell_type": "code",
   "execution_count": null,
   "id": "ba3cc896-aab1-4654-8896-45c18fc683d2",
   "metadata": {},
   "outputs": [],
   "source": []
  },
  {
   "cell_type": "markdown",
   "id": "55114f86-c014-45c0-8fc0-bcb9a995e3eb",
   "metadata": {},
   "source": [
    "#### d. There is relationship between FICO scores and Home Ownership. It means that, People with owning home will have high FICO scores."
   ]
  },
  {
   "cell_type": "markdown",
   "id": "72edd42b-55de-4f68-ac8d-806bcc8e7218",
   "metadata": {},
   "source": [
    "### Null hypothesis and Alternate hypothesis are as below\n",
    "\n",
    "\n",
    "#### Null Hypothesis (H₀):   There is relationship between FICO scores and Home Ownership\n",
    "\n",
    "\n",
    "#### Alternative Hypothesis (Hₐ):   There is no relationship between FICO scores and Home Ownership\n",
    "\n",
    "### *Confidence level is = 95%*\n",
    "\n",
    "\n",
    "### *Significant level is (100-95=5%)*\n",
    "\n",
    "#### *The significance level is 5% (0.05)*\n",
    "\n",
    "\n",
    "### *P-critical = 0.05%*\n",
    "\n"
   ]
  },
  {
   "cell_type": "markdown",
   "id": "0c9b5b53-925d-41a8-968e-29d9f05d6fcb",
   "metadata": {},
   "source": [
    "### Data Set"
   ]
  },
  {
   "cell_type": "code",
   "execution_count": 100,
   "id": "8cc88e15-b0bc-4a6c-add2-cbae3e1ba615",
   "metadata": {},
   "outputs": [
    {
     "data": {
      "text/plain": [
       "array(['MORTGAGE', 'RENT', 'OWN', 'OTHER'], dtype=object)"
      ]
     },
     "execution_count": 100,
     "metadata": {},
     "output_type": "execute_result"
    }
   ],
   "source": [
    "loans_data['Home_Ownership'].unique()"
   ]
  },
  {
   "cell_type": "code",
   "execution_count": 99,
   "id": "87fdd272-147e-4f8c-8331-1b2a04878664",
   "metadata": {},
   "outputs": [],
   "source": [
    "HO1 = loans_data.loc[loans_data.Home_Ownership == 'MORTGAGE','Fico']\n",
    "HO2 = loans_data.loc[loans_data.Home_Ownership == 'RENT','Fico']\n",
    "HO3 = loans_data.loc[loans_data.Home_Ownership == 'OWN','Fico']\n",
    "HO4 = loans_data.loc[loans_data.Home_Ownership == 'OTHER','Fico']"
   ]
  },
  {
   "cell_type": "code",
   "execution_count": null,
   "id": "1f0bab9f-3d63-4ec5-8f88-a5dd482f8524",
   "metadata": {},
   "outputs": [],
   "source": []
  },
  {
   "cell_type": "markdown",
   "id": "3e135843-2d52-4edc-868f-cd7c0df29884",
   "metadata": {},
   "source": [
    "#### Conducting Test"
   ]
  },
  {
   "cell_type": "code",
   "execution_count": 101,
   "id": "fa0eb8cb-ac9e-4b75-af47-0b7397fc9c0c",
   "metadata": {},
   "outputs": [
    {
     "data": {
      "text/plain": [
       "F_onewayResult(statistic=20.65464665222211, pvalue=3.2682005447315283e-13)"
      ]
     },
     "execution_count": 101,
     "metadata": {},
     "output_type": "execute_result"
    }
   ],
   "source": [
    "FICO=stats.f_oneway(HO1,HO2,HO3,HO4)\n",
    "FICO"
   ]
  },
  {
   "cell_type": "code",
   "execution_count": null,
   "id": "1ac8be1d-d6b8-4871-ad1b-c330dfccc5b6",
   "metadata": {},
   "outputs": [],
   "source": []
  },
  {
   "cell_type": "markdown",
   "id": "8e57bce5-0697-4e40-a19b-e767a0447e13",
   "metadata": {},
   "source": [
    "#### Comparing p-value with p-critical"
   ]
  },
  {
   "cell_type": "code",
   "execution_count": 102,
   "id": "e1bdfb71-44e8-48a1-b6a5-955d9de84cd9",
   "metadata": {},
   "outputs": [
    {
     "name": "stdout",
     "output_type": "stream",
     "text": [
      "We reject null hypothesis\n",
      " Conclusion: There is no relationship between FICO scores and Home Ownership\n"
     ]
    }
   ],
   "source": [
    "p=FICO.pvalue\n",
    "if p<0.05:\n",
    "    print('We reject null hypothesis\\n Conclusion: There is no relationship between FICO scores and Home Ownership')\n",
    "else:\n",
    "    print('We failed to reject null hypothesis\\n Conclusion: There is relationship between FICO scores and Home Ownership')"
   ]
  },
  {
   "cell_type": "code",
   "execution_count": null,
   "id": "79d8d872-3d9b-4cee-8d1e-51a53a1ebe93",
   "metadata": {},
   "outputs": [],
   "source": []
  },
  {
   "cell_type": "code",
   "execution_count": null,
   "id": "725a2542-c351-4a63-b485-bfd7a37ef4ef",
   "metadata": {},
   "outputs": [],
   "source": []
  },
  {
   "cell_type": "markdown",
   "id": "d8d47c82-d336-46fe-ba99-423db99825e4",
   "metadata": {},
   "source": [
    "#### BUSINESS PROBLEM - 2\n",
    "    BACKGROUND: When an order is placed by a customer of a small manufacturing company, a price quote must be developed for that order. Because each order is unique, quotes must be established on an order-by-order basis by a pricing expert. The price quote process is laborintensive, as prices depend on many factors such as the part number, customer, geographic location, market, and order volume. The sales department manager is concerned that the pricing process is too complex, and that there might be too much variability in the quoted prices. An improvement team is tasked with studying and improving the pricing process.\n",
    "\n",
    "\n",
    "\n",
    "    After interviewing experts to develop a better understanding of the current process, the team designed a study to determine if there is variability between pricing experts. That is, do different pricing experts provide different price quotes? Two randomly selected pricing experts, Mary and Barry, were asked to independently provide prices for twelve randomly selected orders. Eachexpert provided one price for each of the twelve orders.\n",
    "    \n",
    "    BUSINESS PROBLEM: We would like to assess if there is any difference in the average price quotes provided by Mary and Barry."
   ]
  },
  {
   "cell_type": "code",
   "execution_count": null,
   "id": "080146f2-fd66-4949-a91c-d5e0ce112f26",
   "metadata": {},
   "outputs": [],
   "source": []
  },
  {
   "cell_type": "markdown",
   "id": "a06e92a9-2b3c-482c-9033-6f66df0e5028",
   "metadata": {},
   "source": [
    "### Null hypothesis and Alternate hypothesis are as below\n",
    "\n",
    "\n",
    "#### Null Hypothesis (H₀): There is difference in the average price quotes provided by Mary and Barry\n",
    "\n",
    "\n",
    "#### Alternative Hypothesis (Hₐ): There is no difference in the average price quotes provided by Mary and Barry\n",
    "\n",
    "### *Confidence level is = 95%*\n",
    "\n",
    "\n",
    "### *Significant level is (100-95=5%)*\n",
    "\n",
    "#### *The significance level is 5% (0.05)*\n",
    "\n",
    "\n",
    "### *P-critical = 0.05%*\n",
    "\n"
   ]
  },
  {
   "cell_type": "code",
   "execution_count": null,
   "id": "61a65698-3e59-4e95-8a28-b3ac814ac330",
   "metadata": {},
   "outputs": [],
   "source": []
  },
  {
   "cell_type": "markdown",
   "id": "72f22890-59dd-4c24-b4f6-2a80b33711ab",
   "metadata": {},
   "source": [
    "#### Data Set"
   ]
  },
  {
   "cell_type": "code",
   "execution_count": 104,
   "id": "8f8a621b-a829-4bd5-a990-c83c01c9da5c",
   "metadata": {},
   "outputs": [
    {
     "data": {
      "text/html": [
       "<div>\n",
       "<style scoped>\n",
       "    .dataframe tbody tr th:only-of-type {\n",
       "        vertical-align: middle;\n",
       "    }\n",
       "\n",
       "    .dataframe tbody tr th {\n",
       "        vertical-align: top;\n",
       "    }\n",
       "\n",
       "    .dataframe thead th {\n",
       "        text-align: right;\n",
       "    }\n",
       "</style>\n",
       "<table border=\"1\" class=\"dataframe\">\n",
       "  <thead>\n",
       "    <tr style=\"text-align: right;\">\n",
       "      <th></th>\n",
       "      <th>Order_Number</th>\n",
       "      <th>Barry_Price</th>\n",
       "      <th>Mary_Price</th>\n",
       "    </tr>\n",
       "  </thead>\n",
       "  <tbody>\n",
       "    <tr>\n",
       "      <th>0</th>\n",
       "      <td>1</td>\n",
       "      <td>126</td>\n",
       "      <td>114</td>\n",
       "    </tr>\n",
       "    <tr>\n",
       "      <th>1</th>\n",
       "      <td>2</td>\n",
       "      <td>110</td>\n",
       "      <td>118</td>\n",
       "    </tr>\n",
       "    <tr>\n",
       "      <th>2</th>\n",
       "      <td>3</td>\n",
       "      <td>138</td>\n",
       "      <td>114</td>\n",
       "    </tr>\n",
       "    <tr>\n",
       "      <th>3</th>\n",
       "      <td>4</td>\n",
       "      <td>142</td>\n",
       "      <td>111</td>\n",
       "    </tr>\n",
       "    <tr>\n",
       "      <th>4</th>\n",
       "      <td>5</td>\n",
       "      <td>146</td>\n",
       "      <td>129</td>\n",
       "    </tr>\n",
       "    <tr>\n",
       "      <th>5</th>\n",
       "      <td>6</td>\n",
       "      <td>136</td>\n",
       "      <td>119</td>\n",
       "    </tr>\n",
       "    <tr>\n",
       "      <th>6</th>\n",
       "      <td>7</td>\n",
       "      <td>94</td>\n",
       "      <td>97</td>\n",
       "    </tr>\n",
       "    <tr>\n",
       "      <th>7</th>\n",
       "      <td>8</td>\n",
       "      <td>103</td>\n",
       "      <td>104</td>\n",
       "    </tr>\n",
       "    <tr>\n",
       "      <th>8</th>\n",
       "      <td>9</td>\n",
       "      <td>140</td>\n",
       "      <td>127</td>\n",
       "    </tr>\n",
       "    <tr>\n",
       "      <th>9</th>\n",
       "      <td>10</td>\n",
       "      <td>152</td>\n",
       "      <td>133</td>\n",
       "    </tr>\n",
       "    <tr>\n",
       "      <th>10</th>\n",
       "      <td>11</td>\n",
       "      <td>108</td>\n",
       "      <td>103</td>\n",
       "    </tr>\n",
       "    <tr>\n",
       "      <th>11</th>\n",
       "      <td>12</td>\n",
       "      <td>97</td>\n",
       "      <td>108</td>\n",
       "    </tr>\n",
       "  </tbody>\n",
       "</table>\n",
       "</div>"
      ],
      "text/plain": [
       "    Order_Number  Barry_Price  Mary_Price\n",
       "0              1          126         114\n",
       "1              2          110         118\n",
       "2              3          138         114\n",
       "3              4          142         111\n",
       "4              5          146         129\n",
       "5              6          136         119\n",
       "6              7           94          97\n",
       "7              8          103         104\n",
       "8              9          140         127\n",
       "9             10          152         133\n",
       "10            11          108         103\n",
       "11            12           97         108"
      ]
     },
     "execution_count": 104,
     "metadata": {},
     "output_type": "execute_result"
    }
   ],
   "source": [
    "Price_Quotes=pd.read_csv('Price_Quotes.csv')\n",
    "Price_Quotes"
   ]
  },
  {
   "cell_type": "code",
   "execution_count": null,
   "id": "ff152b3d-a253-49f5-b5d9-b809fa70b337",
   "metadata": {},
   "outputs": [],
   "source": []
  },
  {
   "cell_type": "markdown",
   "id": "c0762268-3ca9-4c62-92ad-8b50a7a6dda0",
   "metadata": {},
   "source": [
    "#### Conducting Test"
   ]
  },
  {
   "cell_type": "code",
   "execution_count": 109,
   "id": "46ea9175-52d8-45f5-8ed7-86e15c580a23",
   "metadata": {},
   "outputs": [
    {
     "data": {
      "text/plain": [
       "TtestResult(statistic=2.5213765108923494, pvalue=0.02840588045242053, df=11)"
      ]
     },
     "execution_count": 109,
     "metadata": {},
     "output_type": "execute_result"
    }
   ],
   "source": [
    "PQ=stats.ttest_rel(Price_Quotes.Barry_Price,Price_Quotes.Mary_Price)\n",
    "PQ"
   ]
  },
  {
   "cell_type": "markdown",
   "id": "54d8da20-395a-4a92-b197-c0509c918dfc",
   "metadata": {},
   "source": [
    "#### Comparing p-value with p-critical\n"
   ]
  },
  {
   "cell_type": "code",
   "execution_count": 107,
   "id": "9c90797d-b099-43fc-ac82-de4b92e01ee9",
   "metadata": {},
   "outputs": [
    {
     "name": "stdout",
     "output_type": "stream",
     "text": [
      "We reject null hypothesis\n",
      " Conclusion: There is no difference in the average price quotes provided by Mary and Barry\n"
     ]
    }
   ],
   "source": [
    "p=PQ.pvalue\n",
    "if p<0.05:\n",
    "    print('We reject null hypothesis\\n Conclusion: There is no difference in the average price quotes provided by Mary and Barry')\n",
    "else:\n",
    "    print('We failed to reject null hypothesis\\n Conclusion: There is difference in the average price quotes provided by Mary and Barry')"
   ]
  },
  {
   "cell_type": "code",
   "execution_count": null,
   "id": "a7d8dba4-3ce3-46cd-bcb7-57860a9bccfe",
   "metadata": {},
   "outputs": [],
   "source": []
  },
  {
   "cell_type": "markdown",
   "id": "bcfa41af-ffd5-4286-9086-7fda8cb6fb69",
   "metadata": {},
   "source": [
    "#### BUSINESS PROBLEM-3:\n",
    "\n",
    "    BUSINESS PROBLEM-3:\n",
    "    BACKGROUND: The New Life Residential Treatment Facility is a NGO that treatsteenagers who have shown signs of mental illness. It provides housing and supervision of teenagers who are making the transition from psychiatric hospitals back into the community. Because many of the teenagers were severely abused as children and have been involved with the juvenile\n",
    "justice system, behavioral problems are common at New Life. Employee pay is low and staff turnover (attrition) is high.\n",
    "\n",
    "A reengineering program wasinstituted at New Life with the goals of lowering behavioral problems of the kids and decreasing employee turnover rates. As a part of this effort, the following changes were made:\n",
    "\n",
    " Employee shifts were shortened from 10 hours to 8 hours each day.\n",
    "\n",
    " Employees were motivated to become more involved in patient treatments. This included encouraging staff to run varioustherapeutic treatment sessions and allowing staff to have more say in program changes.\n",
    "    \n",
    " The activities budget wasincreased.\n",
    "    \n",
    " A facility-wide performance evaluation system was putinto place that rewarded staff participation andinnovation.\n",
    "\n",
    " Management and staff instituted a program designed to raise expectations about appropriate behavior from the kids. Thisincluded strict compliance with reporting of behavioral violations, insistence on participation in therapeutic sessions, and a lowered tolerance for even moderate behavioralinfractions.\n",
    "\n",
    "To determine the effectiveness of the reengineering effort, a data set comprised of pre- and post-re-engineering periods was compiled. The information contains two measures of behavioral problems. A critical incident occurs when a resident goes AWOL (leavesthe premises without permission), destroys property (e.g., punching a hole in a wall or throwing furniture through windows), is caught in possession of street drugs, or engages in assault against other residents or staff members. A teenager istemporarily removed from the facility  when s/he is sent to jail or back to a psychiatric hospital\n",
    "\n",
    "BUSINESS PROBLEM: Determine what effect, if any, the re-engineering effort had on the incidence behavioral problems and staff turnover. i.e To determine if the re-engineering effort changed the critical incidence rate. Is there evidence that the critical incidence rate improved?"
   ]
  },
  {
   "cell_type": "code",
   "execution_count": null,
   "id": "a8ed98ad-1a65-4221-a453-c21eeee569d5",
   "metadata": {},
   "outputs": [],
   "source": []
  },
  {
   "cell_type": "markdown",
   "id": "d05ca543-7429-4f43-a270-b3d1ab18c807",
   "metadata": {},
   "source": [
    "### Null hypothesis and Alternate hypothesis are as below\n",
    "\n",
    "\n",
    "#### Null Hypothesis (H₀): Relation\n",
    "\n",
    "\n",
    "#### Alternative Hypothesis (Hₐ): No Relation\n",
    "\n",
    "### *Confidence level is = 95%*\n",
    "\n",
    "\n",
    "### *Significant level is (100-95=5%)*\n",
    "\n",
    "#### *The significance level is 5% (0.05)*\n",
    "\n",
    "\n",
    "### *P-critical = 0.05%*\n",
    "\n"
   ]
  },
  {
   "cell_type": "code",
   "execution_count": null,
   "id": "e750c753-5287-4371-b8e4-5d6ddb1bc1ec",
   "metadata": {},
   "outputs": [],
   "source": []
  },
  {
   "cell_type": "markdown",
   "id": "eed77ba2-2070-4076-bc78-a22df16ea5a5",
   "metadata": {},
   "source": [
    "#### Data Set"
   ]
  },
  {
   "cell_type": "code",
   "execution_count": 113,
   "id": "6e3cfd86-1ea4-4c99-8171-c3eb8425a656",
   "metadata": {},
   "outputs": [
    {
     "data": {
      "text/html": [
       "<div>\n",
       "<style scoped>\n",
       "    .dataframe tbody tr th:only-of-type {\n",
       "        vertical-align: middle;\n",
       "    }\n",
       "\n",
       "    .dataframe tbody tr th {\n",
       "        vertical-align: top;\n",
       "    }\n",
       "\n",
       "    .dataframe thead th {\n",
       "        text-align: right;\n",
       "    }\n",
       "</style>\n",
       "<table border=\"1\" class=\"dataframe\">\n",
       "  <thead>\n",
       "    <tr style=\"text-align: right;\">\n",
       "      <th></th>\n",
       "      <th>Month</th>\n",
       "      <th>Reengineer</th>\n",
       "      <th>Employee_Turnover</th>\n",
       "      <th>VAR4</th>\n",
       "      <th>VAR5</th>\n",
       "    </tr>\n",
       "  </thead>\n",
       "  <tbody>\n",
       "    <tr>\n",
       "      <th>0</th>\n",
       "      <td>1</td>\n",
       "      <td>Prior</td>\n",
       "      <td>0.0000</td>\n",
       "      <td>24.390244</td>\n",
       "      <td>42.682927</td>\n",
       "    </tr>\n",
       "    <tr>\n",
       "      <th>1</th>\n",
       "      <td>2</td>\n",
       "      <td>Prior</td>\n",
       "      <td>6.0606</td>\n",
       "      <td>19.354839</td>\n",
       "      <td>25.806452</td>\n",
       "    </tr>\n",
       "    <tr>\n",
       "      <th>2</th>\n",
       "      <td>3</td>\n",
       "      <td>Prior</td>\n",
       "      <td>12.1212</td>\n",
       "      <td>35.087719</td>\n",
       "      <td>146.198830</td>\n",
       "    </tr>\n",
       "    <tr>\n",
       "      <th>3</th>\n",
       "      <td>4</td>\n",
       "      <td>Prior</td>\n",
       "      <td>3.3333</td>\n",
       "      <td>18.404908</td>\n",
       "      <td>110.429448</td>\n",
       "    </tr>\n",
       "    <tr>\n",
       "      <th>4</th>\n",
       "      <td>5</td>\n",
       "      <td>Prior</td>\n",
       "      <td>12.9032</td>\n",
       "      <td>17.964072</td>\n",
       "      <td>23.952096</td>\n",
       "    </tr>\n",
       "    <tr>\n",
       "      <th>5</th>\n",
       "      <td>6</td>\n",
       "      <td>Prior</td>\n",
       "      <td>9.6774</td>\n",
       "      <td>41.176471</td>\n",
       "      <td>47.058824</td>\n",
       "    </tr>\n",
       "    <tr>\n",
       "      <th>6</th>\n",
       "      <td>7</td>\n",
       "      <td>Prior</td>\n",
       "      <td>11.7647</td>\n",
       "      <td>13.422819</td>\n",
       "      <td>0.000000</td>\n",
       "    </tr>\n",
       "    <tr>\n",
       "      <th>7</th>\n",
       "      <td>8</td>\n",
       "      <td>Prior</td>\n",
       "      <td>11.4286</td>\n",
       "      <td>31.250000</td>\n",
       "      <td>25.000000</td>\n",
       "    </tr>\n",
       "    <tr>\n",
       "      <th>8</th>\n",
       "      <td>9</td>\n",
       "      <td>Prior</td>\n",
       "      <td>23.0769</td>\n",
       "      <td>17.241379</td>\n",
       "      <td>132.183908</td>\n",
       "    </tr>\n",
       "    <tr>\n",
       "      <th>9</th>\n",
       "      <td>10</td>\n",
       "      <td>Prior</td>\n",
       "      <td>15.0000</td>\n",
       "      <td>16.574586</td>\n",
       "      <td>16.574586</td>\n",
       "    </tr>\n",
       "    <tr>\n",
       "      <th>10</th>\n",
       "      <td>11</td>\n",
       "      <td>Prior</td>\n",
       "      <td>10.0000</td>\n",
       "      <td>5.917160</td>\n",
       "      <td>88.757396</td>\n",
       "    </tr>\n",
       "    <tr>\n",
       "      <th>11</th>\n",
       "      <td>12</td>\n",
       "      <td>Prior</td>\n",
       "      <td>26.0870</td>\n",
       "      <td>21.164021</td>\n",
       "      <td>31.746032</td>\n",
       "    </tr>\n",
       "    <tr>\n",
       "      <th>12</th>\n",
       "      <td>13</td>\n",
       "      <td>Prior</td>\n",
       "      <td>11.1111</td>\n",
       "      <td>5.076142</td>\n",
       "      <td>10.152284</td>\n",
       "    </tr>\n",
       "    <tr>\n",
       "      <th>13</th>\n",
       "      <td>14</td>\n",
       "      <td>Post</td>\n",
       "      <td>26.6667</td>\n",
       "      <td>9.708738</td>\n",
       "      <td>29.126214</td>\n",
       "    </tr>\n",
       "    <tr>\n",
       "      <th>14</th>\n",
       "      <td>15</td>\n",
       "      <td>Post</td>\n",
       "      <td>17.9487</td>\n",
       "      <td>4.201681</td>\n",
       "      <td>21.008403</td>\n",
       "    </tr>\n",
       "    <tr>\n",
       "      <th>15</th>\n",
       "      <td>16</td>\n",
       "      <td>Post</td>\n",
       "      <td>12.8205</td>\n",
       "      <td>13.043478</td>\n",
       "      <td>34.782609</td>\n",
       "    </tr>\n",
       "    <tr>\n",
       "      <th>16</th>\n",
       "      <td>17</td>\n",
       "      <td>Post</td>\n",
       "      <td>15.7895</td>\n",
       "      <td>9.950249</td>\n",
       "      <td>19.900498</td>\n",
       "    </tr>\n",
       "    <tr>\n",
       "      <th>17</th>\n",
       "      <td>18</td>\n",
       "      <td>Post</td>\n",
       "      <td>0.0000</td>\n",
       "      <td>9.950249</td>\n",
       "      <td>9.950249</td>\n",
       "    </tr>\n",
       "    <tr>\n",
       "      <th>18</th>\n",
       "      <td>19</td>\n",
       "      <td>Post</td>\n",
       "      <td>30.7692</td>\n",
       "      <td>8.510638</td>\n",
       "      <td>25.531915</td>\n",
       "    </tr>\n",
       "    <tr>\n",
       "      <th>19</th>\n",
       "      <td>20</td>\n",
       "      <td>Post</td>\n",
       "      <td>26.8293</td>\n",
       "      <td>9.259259</td>\n",
       "      <td>23.148148</td>\n",
       "    </tr>\n",
       "  </tbody>\n",
       "</table>\n",
       "</div>"
      ],
      "text/plain": [
       "    Month Reengineer  Employee_Turnover       VAR4        VAR5\n",
       "0       1      Prior             0.0000  24.390244   42.682927\n",
       "1       2      Prior             6.0606  19.354839   25.806452\n",
       "2       3      Prior            12.1212  35.087719  146.198830\n",
       "3       4      Prior             3.3333  18.404908  110.429448\n",
       "4       5      Prior            12.9032  17.964072   23.952096\n",
       "5       6      Prior             9.6774  41.176471   47.058824\n",
       "6       7      Prior            11.7647  13.422819    0.000000\n",
       "7       8      Prior            11.4286  31.250000   25.000000\n",
       "8       9      Prior            23.0769  17.241379  132.183908\n",
       "9      10      Prior            15.0000  16.574586   16.574586\n",
       "10     11      Prior            10.0000   5.917160   88.757396\n",
       "11     12      Prior            26.0870  21.164021   31.746032\n",
       "12     13      Prior            11.1111   5.076142   10.152284\n",
       "13     14       Post            26.6667   9.708738   29.126214\n",
       "14     15       Post            17.9487   4.201681   21.008403\n",
       "15     16       Post            12.8205  13.043478   34.782609\n",
       "16     17       Post            15.7895   9.950249   19.900498\n",
       "17     18       Post             0.0000   9.950249    9.950249\n",
       "18     19       Post            30.7692   8.510638   25.531915\n",
       "19     20       Post            26.8293   9.259259   23.148148"
      ]
     },
     "execution_count": 113,
     "metadata": {},
     "output_type": "execute_result"
    }
   ],
   "source": [
    "Treatment_Facility=pd.read_csv('Treatment_Facility.csv')\n",
    "Treatment_Facility"
   ]
  },
  {
   "cell_type": "code",
   "execution_count": 115,
   "id": "606e6918-c801-42ee-8afd-f51252043d6d",
   "metadata": {},
   "outputs": [
    {
     "data": {
      "text/html": [
       "<div>\n",
       "<style scoped>\n",
       "    .dataframe tbody tr th:only-of-type {\n",
       "        vertical-align: middle;\n",
       "    }\n",
       "\n",
       "    .dataframe tbody tr th {\n",
       "        vertical-align: top;\n",
       "    }\n",
       "\n",
       "    .dataframe thead th {\n",
       "        text-align: right;\n",
       "    }\n",
       "</style>\n",
       "<table border=\"1\" class=\"dataframe\">\n",
       "  <thead>\n",
       "    <tr style=\"text-align: right;\">\n",
       "      <th></th>\n",
       "      <th>Month</th>\n",
       "      <th>Reengineer</th>\n",
       "      <th>Employee_Turnover</th>\n",
       "      <th>TRFF(%)</th>\n",
       "      <th>CI(%)</th>\n",
       "    </tr>\n",
       "  </thead>\n",
       "  <tbody>\n",
       "    <tr>\n",
       "      <th>0</th>\n",
       "      <td>1</td>\n",
       "      <td>Prior</td>\n",
       "      <td>0.0000</td>\n",
       "      <td>24.390244</td>\n",
       "      <td>42.682927</td>\n",
       "    </tr>\n",
       "    <tr>\n",
       "      <th>1</th>\n",
       "      <td>2</td>\n",
       "      <td>Prior</td>\n",
       "      <td>6.0606</td>\n",
       "      <td>19.354839</td>\n",
       "      <td>25.806452</td>\n",
       "    </tr>\n",
       "    <tr>\n",
       "      <th>2</th>\n",
       "      <td>3</td>\n",
       "      <td>Prior</td>\n",
       "      <td>12.1212</td>\n",
       "      <td>35.087719</td>\n",
       "      <td>146.198830</td>\n",
       "    </tr>\n",
       "    <tr>\n",
       "      <th>3</th>\n",
       "      <td>4</td>\n",
       "      <td>Prior</td>\n",
       "      <td>3.3333</td>\n",
       "      <td>18.404908</td>\n",
       "      <td>110.429448</td>\n",
       "    </tr>\n",
       "    <tr>\n",
       "      <th>4</th>\n",
       "      <td>5</td>\n",
       "      <td>Prior</td>\n",
       "      <td>12.9032</td>\n",
       "      <td>17.964072</td>\n",
       "      <td>23.952096</td>\n",
       "    </tr>\n",
       "    <tr>\n",
       "      <th>5</th>\n",
       "      <td>6</td>\n",
       "      <td>Prior</td>\n",
       "      <td>9.6774</td>\n",
       "      <td>41.176471</td>\n",
       "      <td>47.058824</td>\n",
       "    </tr>\n",
       "    <tr>\n",
       "      <th>6</th>\n",
       "      <td>7</td>\n",
       "      <td>Prior</td>\n",
       "      <td>11.7647</td>\n",
       "      <td>13.422819</td>\n",
       "      <td>0.000000</td>\n",
       "    </tr>\n",
       "    <tr>\n",
       "      <th>7</th>\n",
       "      <td>8</td>\n",
       "      <td>Prior</td>\n",
       "      <td>11.4286</td>\n",
       "      <td>31.250000</td>\n",
       "      <td>25.000000</td>\n",
       "    </tr>\n",
       "    <tr>\n",
       "      <th>8</th>\n",
       "      <td>9</td>\n",
       "      <td>Prior</td>\n",
       "      <td>23.0769</td>\n",
       "      <td>17.241379</td>\n",
       "      <td>132.183908</td>\n",
       "    </tr>\n",
       "    <tr>\n",
       "      <th>9</th>\n",
       "      <td>10</td>\n",
       "      <td>Prior</td>\n",
       "      <td>15.0000</td>\n",
       "      <td>16.574586</td>\n",
       "      <td>16.574586</td>\n",
       "    </tr>\n",
       "    <tr>\n",
       "      <th>10</th>\n",
       "      <td>11</td>\n",
       "      <td>Prior</td>\n",
       "      <td>10.0000</td>\n",
       "      <td>5.917160</td>\n",
       "      <td>88.757396</td>\n",
       "    </tr>\n",
       "    <tr>\n",
       "      <th>11</th>\n",
       "      <td>12</td>\n",
       "      <td>Prior</td>\n",
       "      <td>26.0870</td>\n",
       "      <td>21.164021</td>\n",
       "      <td>31.746032</td>\n",
       "    </tr>\n",
       "    <tr>\n",
       "      <th>12</th>\n",
       "      <td>13</td>\n",
       "      <td>Prior</td>\n",
       "      <td>11.1111</td>\n",
       "      <td>5.076142</td>\n",
       "      <td>10.152284</td>\n",
       "    </tr>\n",
       "    <tr>\n",
       "      <th>13</th>\n",
       "      <td>14</td>\n",
       "      <td>Post</td>\n",
       "      <td>26.6667</td>\n",
       "      <td>9.708738</td>\n",
       "      <td>29.126214</td>\n",
       "    </tr>\n",
       "    <tr>\n",
       "      <th>14</th>\n",
       "      <td>15</td>\n",
       "      <td>Post</td>\n",
       "      <td>17.9487</td>\n",
       "      <td>4.201681</td>\n",
       "      <td>21.008403</td>\n",
       "    </tr>\n",
       "    <tr>\n",
       "      <th>15</th>\n",
       "      <td>16</td>\n",
       "      <td>Post</td>\n",
       "      <td>12.8205</td>\n",
       "      <td>13.043478</td>\n",
       "      <td>34.782609</td>\n",
       "    </tr>\n",
       "    <tr>\n",
       "      <th>16</th>\n",
       "      <td>17</td>\n",
       "      <td>Post</td>\n",
       "      <td>15.7895</td>\n",
       "      <td>9.950249</td>\n",
       "      <td>19.900498</td>\n",
       "    </tr>\n",
       "    <tr>\n",
       "      <th>17</th>\n",
       "      <td>18</td>\n",
       "      <td>Post</td>\n",
       "      <td>0.0000</td>\n",
       "      <td>9.950249</td>\n",
       "      <td>9.950249</td>\n",
       "    </tr>\n",
       "    <tr>\n",
       "      <th>18</th>\n",
       "      <td>19</td>\n",
       "      <td>Post</td>\n",
       "      <td>30.7692</td>\n",
       "      <td>8.510638</td>\n",
       "      <td>25.531915</td>\n",
       "    </tr>\n",
       "    <tr>\n",
       "      <th>19</th>\n",
       "      <td>20</td>\n",
       "      <td>Post</td>\n",
       "      <td>26.8293</td>\n",
       "      <td>9.259259</td>\n",
       "      <td>23.148148</td>\n",
       "    </tr>\n",
       "  </tbody>\n",
       "</table>\n",
       "</div>"
      ],
      "text/plain": [
       "    Month Reengineer  Employee_Turnover    TRFF(%)       CI(%)\n",
       "0       1      Prior             0.0000  24.390244   42.682927\n",
       "1       2      Prior             6.0606  19.354839   25.806452\n",
       "2       3      Prior            12.1212  35.087719  146.198830\n",
       "3       4      Prior             3.3333  18.404908  110.429448\n",
       "4       5      Prior            12.9032  17.964072   23.952096\n",
       "5       6      Prior             9.6774  41.176471   47.058824\n",
       "6       7      Prior            11.7647  13.422819    0.000000\n",
       "7       8      Prior            11.4286  31.250000   25.000000\n",
       "8       9      Prior            23.0769  17.241379  132.183908\n",
       "9      10      Prior            15.0000  16.574586   16.574586\n",
       "10     11      Prior            10.0000   5.917160   88.757396\n",
       "11     12      Prior            26.0870  21.164021   31.746032\n",
       "12     13      Prior            11.1111   5.076142   10.152284\n",
       "13     14       Post            26.6667   9.708738   29.126214\n",
       "14     15       Post            17.9487   4.201681   21.008403\n",
       "15     16       Post            12.8205  13.043478   34.782609\n",
       "16     17       Post            15.7895   9.950249   19.900498\n",
       "17     18       Post             0.0000   9.950249    9.950249\n",
       "18     19       Post            30.7692   8.510638   25.531915\n",
       "19     20       Post            26.8293   9.259259   23.148148"
      ]
     },
     "execution_count": 115,
     "metadata": {},
     "output_type": "execute_result"
    }
   ],
   "source": [
    "Treatment_Facility.rename(columns={'VAR4':'TRFF(%)','VAR5':'CI(%)'},inplace=True)\n",
    "Treatment_Facility"
   ]
  },
  {
   "cell_type": "code",
   "execution_count": 121,
   "id": "84e4b19d-3257-4392-81aa-e8fa7c976d3e",
   "metadata": {},
   "outputs": [],
   "source": [
    "Prior=Treatment_Facility.loc[Treatment_Facility.Reengineer == 'Prior','CI(%)']\n",
    "Post=Treatment_Facility.loc[Treatment_Facility.Reengineer == 'Post','CI(%)']"
   ]
  },
  {
   "cell_type": "code",
   "execution_count": null,
   "id": "33be5d4f-8adc-4949-93fa-f1ceed3d4824",
   "metadata": {},
   "outputs": [],
   "source": []
  },
  {
   "cell_type": "markdown",
   "id": "59b18512-d49d-4d00-89ea-a9c3bd4a61b6",
   "metadata": {},
   "source": [
    "#### Conducting Test"
   ]
  },
  {
   "cell_type": "code",
   "execution_count": 123,
   "id": "683c45bc-069c-49bd-a79b-f54cf07f16fc",
   "metadata": {},
   "outputs": [
    {
     "data": {
      "text/plain": [
       "TtestResult(statistic=1.627914425352865, pvalue=0.12091989189884148, df=18.0)"
      ]
     },
     "execution_count": 123,
     "metadata": {},
     "output_type": "execute_result"
    }
   ],
   "source": [
    "pptest=stats.ttest_ind(Prior,Post)\n",
    "pptest"
   ]
  },
  {
   "cell_type": "markdown",
   "id": "54bc397a-bd2b-424d-916b-7b9543dd2027",
   "metadata": {},
   "source": [
    "#### Comparing p-value with p-critical"
   ]
  },
  {
   "cell_type": "code",
   "execution_count": 124,
   "id": "6c818dbc-8bc5-4186-a79f-5bce5e0e10e5",
   "metadata": {},
   "outputs": [
    {
     "name": "stdout",
     "output_type": "stream",
     "text": [
      "We failed to reject null hypothesis\n",
      " Conclusion: Relation\n"
     ]
    }
   ],
   "source": [
    "p=pptest.pvalue\n",
    "if p<0.05:\n",
    "    print('We reject null hypothesis\\n Conclusion: No relation')\n",
    "else:\n",
    "    print('We failed to reject null hypothesis\\n Conclusion: Relation')"
   ]
  },
  {
   "cell_type": "code",
   "execution_count": null,
   "id": "01f023c9-dffc-422b-8c60-95c3c92a1a99",
   "metadata": {},
   "outputs": [],
   "source": []
  },
  {
   "cell_type": "markdown",
   "id": "75e1fff5-b458-414e-ae9c-9930b7ceb5e6",
   "metadata": {},
   "source": [
    "#### BUSINESS PROBLEM-4\n",
    "    BACKGROUND: Software development projects typically follow six basic phases: Requirements, design, implementation (and integration), testing (validation), deployment (installation) and maintenance. First, general requirements are gathered, and the scope of the functionality is defined. Then, alternative scenarios for the required functionality are developed and evaluated. Implementation, usually 50% or more of the development time, is the phase in which the design istranslated into programs and integrated with other parts of the software – this is when software engineers actually develop the code. During the final phases, programs are tested, software is put into use, and faults or performance issues are addressed.\n",
    "    \n",
    "    ApDudes, a developer of applicationsfor tablet computers, was having difficulty meeting project deadlines; only 10% of their projects had been completed within budget and on time last year and that wasstarting to hurt business. The group’s project manager wastasked with studying problems within the implementation phase. He found thatsoftware engineers were having difficulty prioritizing their work, and that they often became overwhelmed by the magnitude of the projects.\n",
    "\n",
    "    As a result, two changes were made. Each project was broken down into smaller, distinct tasks, or jobs, and each job was assigned a priority. The project manager believes that this classification and prioritization system would speed the completion of high priority jobs, and thuslower overall project completion time\n",
    "\n",
    "    BUSINESS PROBLEM: We will focus on the prioritization system. If the system is working, then high priority jobs, on average, should be completed more quickly than medium priority jobs, and medium priority jobs should be completed more quickly than low priority jobs. Use the data provided to determine whether this is, in fact, occurring."
   ]
  },
  {
   "cell_type": "code",
   "execution_count": null,
   "id": "1300c10a-a1e6-42b2-aa27-739291e1c334",
   "metadata": {},
   "outputs": [],
   "source": []
  },
  {
   "cell_type": "markdown",
   "id": "2dd22092-c661-4e78-b0cf-c92b619213c3",
   "metadata": {},
   "source": [
    "### Null hypothesis and Alternate hypothesis are as below\n",
    "\n",
    "\n",
    "#### Null Hypothesis (H₀): Relation\n",
    "\n",
    "\n",
    "#### Alternative Hypothesis (Hₐ): No Relation\n",
    "\n",
    "### *Confidence level is = 95%*\n",
    "\n",
    "\n",
    "### *Significant level is (100-95=5%)*\n",
    "\n",
    "#### *The significance level is 5% (0.05)*\n",
    "\n",
    "\n",
    "### *P-critical = 0.05%*\n",
    "\n"
   ]
  },
  {
   "cell_type": "markdown",
   "id": "f1ab1281-72e4-4132-b83f-8ff2cd46c6bc",
   "metadata": {},
   "source": [
    "#### Data Set"
   ]
  },
  {
   "cell_type": "code",
   "execution_count": 125,
   "id": "5cc5f0ff-1625-4da0-a56c-d903abc0cb2c",
   "metadata": {},
   "outputs": [
    {
     "data": {
      "text/html": [
       "<div>\n",
       "<style scoped>\n",
       "    .dataframe tbody tr th:only-of-type {\n",
       "        vertical-align: middle;\n",
       "    }\n",
       "\n",
       "    .dataframe tbody tr th {\n",
       "        vertical-align: top;\n",
       "    }\n",
       "\n",
       "    .dataframe thead th {\n",
       "        text-align: right;\n",
       "    }\n",
       "</style>\n",
       "<table border=\"1\" class=\"dataframe\">\n",
       "  <thead>\n",
       "    <tr style=\"text-align: right;\">\n",
       "      <th></th>\n",
       "      <th>Days</th>\n",
       "      <th>Priority</th>\n",
       "    </tr>\n",
       "  </thead>\n",
       "  <tbody>\n",
       "    <tr>\n",
       "      <th>0</th>\n",
       "      <td>3.3</td>\n",
       "      <td>High</td>\n",
       "    </tr>\n",
       "    <tr>\n",
       "      <th>1</th>\n",
       "      <td>7.9</td>\n",
       "      <td>Medium</td>\n",
       "    </tr>\n",
       "    <tr>\n",
       "      <th>2</th>\n",
       "      <td>0.3</td>\n",
       "      <td>High</td>\n",
       "    </tr>\n",
       "    <tr>\n",
       "      <th>3</th>\n",
       "      <td>0.7</td>\n",
       "      <td>Medium</td>\n",
       "    </tr>\n",
       "    <tr>\n",
       "      <th>4</th>\n",
       "      <td>8.6</td>\n",
       "      <td>Medium</td>\n",
       "    </tr>\n",
       "    <tr>\n",
       "      <th>...</th>\n",
       "      <td>...</td>\n",
       "      <td>...</td>\n",
       "    </tr>\n",
       "    <tr>\n",
       "      <th>637</th>\n",
       "      <td>2.5</td>\n",
       "      <td>Low</td>\n",
       "    </tr>\n",
       "    <tr>\n",
       "      <th>638</th>\n",
       "      <td>0.3</td>\n",
       "      <td>High</td>\n",
       "    </tr>\n",
       "    <tr>\n",
       "      <th>639</th>\n",
       "      <td>0.3</td>\n",
       "      <td>Medium</td>\n",
       "    </tr>\n",
       "    <tr>\n",
       "      <th>640</th>\n",
       "      <td>1.3</td>\n",
       "      <td>Medium</td>\n",
       "    </tr>\n",
       "    <tr>\n",
       "      <th>641</th>\n",
       "      <td>0.5</td>\n",
       "      <td>High</td>\n",
       "    </tr>\n",
       "  </tbody>\n",
       "</table>\n",
       "<p>642 rows × 2 columns</p>\n",
       "</div>"
      ],
      "text/plain": [
       "     Days Priority\n",
       "0     3.3     High\n",
       "1     7.9   Medium\n",
       "2     0.3     High\n",
       "3     0.7   Medium\n",
       "4     8.6   Medium\n",
       "..    ...      ...\n",
       "637   2.5      Low\n",
       "638   0.3     High\n",
       "639   0.3   Medium\n",
       "640   1.3   Medium\n",
       "641   0.5     High\n",
       "\n",
       "[642 rows x 2 columns]"
      ]
     },
     "execution_count": 125,
     "metadata": {},
     "output_type": "execute_result"
    }
   ],
   "source": [
    "Priority_Assessment=pd.read_csv('Priority_Assessment.csv')\n",
    "Priority_Assessment"
   ]
  },
  {
   "cell_type": "code",
   "execution_count": 128,
   "id": "f4a38921-73b2-48e7-b058-ec24ef8de06e",
   "metadata": {},
   "outputs": [],
   "source": [
    "Low=Priority_Assessment.loc[Priority_Assessment.Priority=='Low','Days']\n",
    "Medium=Priority_Assessment.loc[Priority_Assessment.Priority=='Medium','Days']\n",
    "High=Priority_Assessment.loc[Priority_Assessment.Priority=='High','Days']"
   ]
  },
  {
   "cell_type": "code",
   "execution_count": null,
   "id": "bb3339a8-998f-4f39-a5c3-69b36fe91c49",
   "metadata": {},
   "outputs": [],
   "source": []
  },
  {
   "cell_type": "markdown",
   "id": "4d23d8e2-dc09-40c8-b5d1-a75987df47cc",
   "metadata": {},
   "source": [
    "#### Conducting Test"
   ]
  },
  {
   "cell_type": "code",
   "execution_count": 131,
   "id": "6a907899-26a3-4298-8aa3-888435dd431a",
   "metadata": {},
   "outputs": [
    {
     "data": {
      "text/plain": [
       "F_onewayResult(statistic=1.8123110100760724, pvalue=0.16411459461716182)"
      ]
     },
     "execution_count": 131,
     "metadata": {},
     "output_type": "execute_result"
    }
   ],
   "source": [
    "PA=stats.f_oneway(Low,Medium,High)\n",
    "PA"
   ]
  },
  {
   "cell_type": "markdown",
   "id": "bf491fa9-4ac8-40a4-98af-bbc65b415299",
   "metadata": {},
   "source": [
    "#### Comparing p-value with p-critical"
   ]
  },
  {
   "cell_type": "code",
   "execution_count": 132,
   "id": "a9d2c5bb-6f2d-4f79-840d-db3c0aae4e45",
   "metadata": {},
   "outputs": [
    {
     "name": "stdout",
     "output_type": "stream",
     "text": [
      "We failed to reject null hypothesis\n",
      " Conclusion: Relation\n"
     ]
    }
   ],
   "source": [
    "p=pptest.pvalue\n",
    "if p<0.05:\n",
    "    print('We reject null hypothesis\\n Conclusion: No relation')\n",
    "else:\n",
    "    print('We failed to reject null hypothesis\\n Conclusion: Relation')"
   ]
  },
  {
   "cell_type": "code",
   "execution_count": null,
   "id": "b0eef077-773d-48dc-a157-406e4c71e8ea",
   "metadata": {},
   "outputs": [],
   "source": []
  },
  {
   "cell_type": "markdown",
   "id": "5d98d75a-0a2e-4c9d-9f13-37368cc0d105",
   "metadata": {},
   "source": [
    "#### BUSINESS PROBLEM-5\n",
    "    BackGround: Film on the Rocksis a summer movie series held at the world-renowned Red Rocks Amphitheatre, which is situated on a hillside of the Rocky Mountains in Morrison, Colorado fifteen miles west of Denver. The film series features classic films, and pre-show entertainment including bands and comedians. Among the features that have made Red Rocks an internationally-famous concertstage are sweeping views of Denver, outstanding acoustics, and cool, dry Colorado summers.\n",
    "        \n",
    "    The seriesis jointly promoted by the Denver Film Society (DFS) and the City and County of Denver’s Division of Theatres and Arenas(DT&A). It is marketed through various outlets including newspaper, radio, and the Red Rocks and Denver Film Society websites. Film on the Rocks patrons also benefit from corporate sponsorship. In return for on-site posters and banners at Red Rocks, and recognition in pre- show marketing materials, corporations donate fundsthat keep ticket priceslow.\n",
    "\n",
    "    Although the Red Rocks Amphitheatre provides a cinematic experience unlike any other venue, there are tradeoffs. Red Rocks is a farther commute for most people than the local movie theater or movie rental store. Given the uphill walk to the amphitheatre from the parking lot, getting there can be challenging. And, as an outdoor venue, the viewing experience is dependent on the weather.\n",
    "        \n",
    "    Patron satisfaction with Red Rocks as the venue for the film series is critical to its success. But, the series promoters would also like to increase attendance at the film series, and are unsure how to do this. Promotersrecognize that they need a better understanding of the customer base, and of the current level of satisfaction. Knowing the demographics of those who attend the film series will help attract and expand corporate sponsorship. In addition, knowing which media outlets are most effective will provideinformation about how best to target future marketing campaigns.\n",
    "\n",
    "    To this end, the promoters conducted surveys during a recent Film on the Rocks season. Questionnaires were handed out at the entrance. Volunteers walked through the crowd to remind people about the free soft drink given to those who returned the survey.\n",
    "\n",
    "    BUSINESS PROBLEM: Use the survey resultsto addressthe following questions\n",
    "\n",
    "     What is the overall level of customer satisfaction?\n",
    "\n",
    "     What factors are linked to satisfaction?\n",
    "\n",
    "     What is the demographic profile of Film on the Rocks patrons?\n",
    "\n",
    "     In what media outlet(s) should the film series be advertised?"
   ]
  },
  {
   "cell_type": "code",
   "execution_count": null,
   "id": "421de14d-d989-4aa6-996a-bff50382d37d",
   "metadata": {},
   "outputs": [],
   "source": []
  },
  {
   "cell_type": "markdown",
   "id": "7b2c3ba4-6978-4dc2-99bf-5969fb29263a",
   "metadata": {},
   "source": [
    "#### Data Set"
   ]
  },
  {
   "cell_type": "code",
   "execution_count": 137,
   "id": "cd83d515-7dda-4d5b-9c40-cf05ac829e1e",
   "metadata": {},
   "outputs": [
    {
     "data": {
      "text/html": [
       "<div>\n",
       "<style scoped>\n",
       "    .dataframe tbody tr th:only-of-type {\n",
       "        vertical-align: middle;\n",
       "    }\n",
       "\n",
       "    .dataframe tbody tr th {\n",
       "        vertical-align: top;\n",
       "    }\n",
       "\n",
       "    .dataframe thead th {\n",
       "        text-align: right;\n",
       "    }\n",
       "</style>\n",
       "<table border=\"1\" class=\"dataframe\">\n",
       "  <thead>\n",
       "    <tr style=\"text-align: right;\">\n",
       "      <th></th>\n",
       "      <th>_rowstate_</th>\n",
       "      <th>Movie</th>\n",
       "      <th>Gender</th>\n",
       "      <th>Marital_Status</th>\n",
       "      <th>Sinage</th>\n",
       "      <th>Parking</th>\n",
       "      <th>Clean</th>\n",
       "      <th>Overall</th>\n",
       "      <th>Age</th>\n",
       "      <th>Income</th>\n",
       "      <th>Hear_About</th>\n",
       "    </tr>\n",
       "  </thead>\n",
       "  <tbody>\n",
       "    <tr>\n",
       "      <th>0</th>\n",
       "      <td>0</td>\n",
       "      <td>Ferris Buellers Day Off</td>\n",
       "      <td>Female</td>\n",
       "      <td>Married</td>\n",
       "      <td>2.0</td>\n",
       "      <td>2.0</td>\n",
       "      <td>2.0</td>\n",
       "      <td>2.0</td>\n",
       "      <td>3.0</td>\n",
       "      <td>1.0</td>\n",
       "      <td>5</td>\n",
       "    </tr>\n",
       "    <tr>\n",
       "      <th>1</th>\n",
       "      <td>0</td>\n",
       "      <td>Ferris Buellers Day Off</td>\n",
       "      <td>Female</td>\n",
       "      <td>Single</td>\n",
       "      <td>1.0</td>\n",
       "      <td>1.0</td>\n",
       "      <td>1.0</td>\n",
       "      <td>1.0</td>\n",
       "      <td>2.0</td>\n",
       "      <td>1.0</td>\n",
       "      <td>5</td>\n",
       "    </tr>\n",
       "    <tr>\n",
       "      <th>2</th>\n",
       "      <td>0</td>\n",
       "      <td>Ferris Buellers Day Off</td>\n",
       "      <td>Male</td>\n",
       "      <td>Married</td>\n",
       "      <td>2.0</td>\n",
       "      <td>4.0</td>\n",
       "      <td>3.0</td>\n",
       "      <td>2.0</td>\n",
       "      <td>4.0</td>\n",
       "      <td>1.0</td>\n",
       "      <td>5</td>\n",
       "    </tr>\n",
       "    <tr>\n",
       "      <th>3</th>\n",
       "      <td>0</td>\n",
       "      <td>Ferris Buellers Day Off</td>\n",
       "      <td>Female</td>\n",
       "      <td>Married</td>\n",
       "      <td>1.0</td>\n",
       "      <td>3.0</td>\n",
       "      <td>2.0</td>\n",
       "      <td>2.0</td>\n",
       "      <td>4.0</td>\n",
       "      <td>1.0</td>\n",
       "      <td>5</td>\n",
       "    </tr>\n",
       "    <tr>\n",
       "      <th>4</th>\n",
       "      <td>0</td>\n",
       "      <td>Ferris Buellers Day Off</td>\n",
       "      <td>Female</td>\n",
       "      <td>Married</td>\n",
       "      <td>1.0</td>\n",
       "      <td>1.0</td>\n",
       "      <td>1.0</td>\n",
       "      <td>1.0</td>\n",
       "      <td>3.0</td>\n",
       "      <td>3.0</td>\n",
       "      <td>1</td>\n",
       "    </tr>\n",
       "    <tr>\n",
       "      <th>...</th>\n",
       "      <td>...</td>\n",
       "      <td>...</td>\n",
       "      <td>...</td>\n",
       "      <td>...</td>\n",
       "      <td>...</td>\n",
       "      <td>...</td>\n",
       "      <td>...</td>\n",
       "      <td>...</td>\n",
       "      <td>...</td>\n",
       "      <td>...</td>\n",
       "      <td>...</td>\n",
       "    </tr>\n",
       "    <tr>\n",
       "      <th>325</th>\n",
       "      <td>0</td>\n",
       "      <td>Old School</td>\n",
       "      <td>2</td>\n",
       "      <td>2</td>\n",
       "      <td>1.0</td>\n",
       "      <td>2.0</td>\n",
       "      <td>1.0</td>\n",
       "      <td>1.0</td>\n",
       "      <td>2.0</td>\n",
       "      <td>1.0</td>\n",
       "      <td>1</td>\n",
       "    </tr>\n",
       "    <tr>\n",
       "      <th>326</th>\n",
       "      <td>0</td>\n",
       "      <td>Old School</td>\n",
       "      <td>1</td>\n",
       "      <td>1</td>\n",
       "      <td>2.0</td>\n",
       "      <td>2.0</td>\n",
       "      <td>2.0</td>\n",
       "      <td>2.0</td>\n",
       "      <td>3.0</td>\n",
       "      <td>3.0</td>\n",
       "      <td>5</td>\n",
       "    </tr>\n",
       "    <tr>\n",
       "      <th>327</th>\n",
       "      <td>0</td>\n",
       "      <td>Old School</td>\n",
       "      <td>2</td>\n",
       "      <td>1</td>\n",
       "      <td>2.0</td>\n",
       "      <td>1.0</td>\n",
       "      <td>1.0</td>\n",
       "      <td>2.0</td>\n",
       "      <td>2.0</td>\n",
       "      <td>2.0</td>\n",
       "      <td>5</td>\n",
       "    </tr>\n",
       "    <tr>\n",
       "      <th>328</th>\n",
       "      <td>0</td>\n",
       "      <td>Old School</td>\n",
       "      <td>1</td>\n",
       "      <td>1</td>\n",
       "      <td>1.0</td>\n",
       "      <td>1.0</td>\n",
       "      <td>1.0</td>\n",
       "      <td>1.0</td>\n",
       "      <td>2.0</td>\n",
       "      <td>1.0</td>\n",
       "      <td>3</td>\n",
       "    </tr>\n",
       "    <tr>\n",
       "      <th>329</th>\n",
       "      <td>0</td>\n",
       "      <td>Old School</td>\n",
       "      <td>2</td>\n",
       "      <td>2</td>\n",
       "      <td>2.0</td>\n",
       "      <td>2.0</td>\n",
       "      <td>3.0</td>\n",
       "      <td>1.0</td>\n",
       "      <td>2.0</td>\n",
       "      <td>1.0</td>\n",
       "      <td>5</td>\n",
       "    </tr>\n",
       "  </tbody>\n",
       "</table>\n",
       "<p>330 rows × 11 columns</p>\n",
       "</div>"
      ],
      "text/plain": [
       "     _rowstate_                    Movie  Gender Marital_Status  Sinage  \\\n",
       "0             0  Ferris Buellers Day Off  Female        Married     2.0   \n",
       "1             0  Ferris Buellers Day Off  Female         Single     1.0   \n",
       "2             0  Ferris Buellers Day Off    Male        Married     2.0   \n",
       "3             0  Ferris Buellers Day Off  Female        Married     1.0   \n",
       "4             0  Ferris Buellers Day Off  Female        Married     1.0   \n",
       "..          ...                      ...     ...            ...     ...   \n",
       "325           0               Old School       2              2     1.0   \n",
       "326           0               Old School       1              1     2.0   \n",
       "327           0               Old School       2              1     2.0   \n",
       "328           0               Old School       1              1     1.0   \n",
       "329           0               Old School       2              2     2.0   \n",
       "\n",
       "     Parking  Clean  Overall  Age  Income Hear_About  \n",
       "0        2.0    2.0      2.0  3.0     1.0          5  \n",
       "1        1.0    1.0      1.0  2.0     1.0          5  \n",
       "2        4.0    3.0      2.0  4.0     1.0          5  \n",
       "3        3.0    2.0      2.0  4.0     1.0          5  \n",
       "4        1.0    1.0      1.0  3.0     3.0          1  \n",
       "..       ...    ...      ...  ...     ...        ...  \n",
       "325      2.0    1.0      1.0  2.0     1.0          1  \n",
       "326      2.0    2.0      2.0  3.0     3.0          5  \n",
       "327      1.0    1.0      2.0  2.0     2.0          5  \n",
       "328      1.0    1.0      1.0  2.0     1.0          3  \n",
       "329      2.0    3.0      1.0  2.0     1.0          5  \n",
       "\n",
       "[330 rows x 11 columns]"
      ]
     },
     "execution_count": 137,
     "metadata": {},
     "output_type": "execute_result"
    }
   ],
   "source": [
    "Films=pd.read_csv('Films.csv')\n",
    "Films"
   ]
  },
  {
   "cell_type": "markdown",
   "id": "b693addd-4469-4f0e-a827-88693413b056",
   "metadata": {},
   "source": [
    "### Data Preparing"
   ]
  },
  {
   "cell_type": "code",
   "execution_count": 141,
   "id": "286f476c-a704-4c39-965f-743636aab14a",
   "metadata": {},
   "outputs": [],
   "source": [
    "Films.Gender = np.where(Films.Gender=='Female',2,Films.Gender)\n",
    "Films.Gender = np.where(Films.Gender=='Male',1,Films.Gender)"
   ]
  },
  {
   "cell_type": "code",
   "execution_count": 160,
   "id": "c5490223-44b0-4720-a385-1d8e1b31c19e",
   "metadata": {},
   "outputs": [
    {
     "data": {
      "text/html": [
       "<div>\n",
       "<style scoped>\n",
       "    .dataframe tbody tr th:only-of-type {\n",
       "        vertical-align: middle;\n",
       "    }\n",
       "\n",
       "    .dataframe tbody tr th {\n",
       "        vertical-align: top;\n",
       "    }\n",
       "\n",
       "    .dataframe thead th {\n",
       "        text-align: right;\n",
       "    }\n",
       "</style>\n",
       "<table border=\"1\" class=\"dataframe\">\n",
       "  <thead>\n",
       "    <tr style=\"text-align: right;\">\n",
       "      <th></th>\n",
       "      <th>_rowstate_</th>\n",
       "      <th>Movie</th>\n",
       "      <th>Gender</th>\n",
       "      <th>Marital_Status</th>\n",
       "      <th>Sinage</th>\n",
       "      <th>Parking</th>\n",
       "      <th>Clean</th>\n",
       "      <th>Overall</th>\n",
       "      <th>Age</th>\n",
       "      <th>Income</th>\n",
       "      <th>Hear_About</th>\n",
       "    </tr>\n",
       "  </thead>\n",
       "  <tbody>\n",
       "    <tr>\n",
       "      <th>0</th>\n",
       "      <td>0</td>\n",
       "      <td>Ferris Buellers Day Off</td>\n",
       "      <td>2.0</td>\n",
       "      <td>1</td>\n",
       "      <td>2.0</td>\n",
       "      <td>2.0</td>\n",
       "      <td>2.0</td>\n",
       "      <td>2.0</td>\n",
       "      <td>3.0</td>\n",
       "      <td>1.0</td>\n",
       "      <td>5</td>\n",
       "    </tr>\n",
       "    <tr>\n",
       "      <th>1</th>\n",
       "      <td>0</td>\n",
       "      <td>Ferris Buellers Day Off</td>\n",
       "      <td>2.0</td>\n",
       "      <td>2</td>\n",
       "      <td>1.0</td>\n",
       "      <td>1.0</td>\n",
       "      <td>1.0</td>\n",
       "      <td>1.0</td>\n",
       "      <td>2.0</td>\n",
       "      <td>1.0</td>\n",
       "      <td>5</td>\n",
       "    </tr>\n",
       "    <tr>\n",
       "      <th>2</th>\n",
       "      <td>0</td>\n",
       "      <td>Ferris Buellers Day Off</td>\n",
       "      <td>1.0</td>\n",
       "      <td>1</td>\n",
       "      <td>2.0</td>\n",
       "      <td>4.0</td>\n",
       "      <td>3.0</td>\n",
       "      <td>2.0</td>\n",
       "      <td>4.0</td>\n",
       "      <td>1.0</td>\n",
       "      <td>5</td>\n",
       "    </tr>\n",
       "    <tr>\n",
       "      <th>3</th>\n",
       "      <td>0</td>\n",
       "      <td>Ferris Buellers Day Off</td>\n",
       "      <td>2.0</td>\n",
       "      <td>1</td>\n",
       "      <td>1.0</td>\n",
       "      <td>3.0</td>\n",
       "      <td>2.0</td>\n",
       "      <td>2.0</td>\n",
       "      <td>4.0</td>\n",
       "      <td>1.0</td>\n",
       "      <td>5</td>\n",
       "    </tr>\n",
       "    <tr>\n",
       "      <th>4</th>\n",
       "      <td>0</td>\n",
       "      <td>Ferris Buellers Day Off</td>\n",
       "      <td>2.0</td>\n",
       "      <td>1</td>\n",
       "      <td>1.0</td>\n",
       "      <td>1.0</td>\n",
       "      <td>1.0</td>\n",
       "      <td>1.0</td>\n",
       "      <td>3.0</td>\n",
       "      <td>3.0</td>\n",
       "      <td>1</td>\n",
       "    </tr>\n",
       "    <tr>\n",
       "      <th>...</th>\n",
       "      <td>...</td>\n",
       "      <td>...</td>\n",
       "      <td>...</td>\n",
       "      <td>...</td>\n",
       "      <td>...</td>\n",
       "      <td>...</td>\n",
       "      <td>...</td>\n",
       "      <td>...</td>\n",
       "      <td>...</td>\n",
       "      <td>...</td>\n",
       "      <td>...</td>\n",
       "    </tr>\n",
       "    <tr>\n",
       "      <th>325</th>\n",
       "      <td>0</td>\n",
       "      <td>Old School</td>\n",
       "      <td>2.0</td>\n",
       "      <td>2</td>\n",
       "      <td>1.0</td>\n",
       "      <td>2.0</td>\n",
       "      <td>1.0</td>\n",
       "      <td>1.0</td>\n",
       "      <td>2.0</td>\n",
       "      <td>1.0</td>\n",
       "      <td>1</td>\n",
       "    </tr>\n",
       "    <tr>\n",
       "      <th>326</th>\n",
       "      <td>0</td>\n",
       "      <td>Old School</td>\n",
       "      <td>1.0</td>\n",
       "      <td>1</td>\n",
       "      <td>2.0</td>\n",
       "      <td>2.0</td>\n",
       "      <td>2.0</td>\n",
       "      <td>2.0</td>\n",
       "      <td>3.0</td>\n",
       "      <td>3.0</td>\n",
       "      <td>5</td>\n",
       "    </tr>\n",
       "    <tr>\n",
       "      <th>327</th>\n",
       "      <td>0</td>\n",
       "      <td>Old School</td>\n",
       "      <td>2.0</td>\n",
       "      <td>1</td>\n",
       "      <td>2.0</td>\n",
       "      <td>1.0</td>\n",
       "      <td>1.0</td>\n",
       "      <td>2.0</td>\n",
       "      <td>2.0</td>\n",
       "      <td>2.0</td>\n",
       "      <td>5</td>\n",
       "    </tr>\n",
       "    <tr>\n",
       "      <th>328</th>\n",
       "      <td>0</td>\n",
       "      <td>Old School</td>\n",
       "      <td>1.0</td>\n",
       "      <td>1</td>\n",
       "      <td>1.0</td>\n",
       "      <td>1.0</td>\n",
       "      <td>1.0</td>\n",
       "      <td>1.0</td>\n",
       "      <td>2.0</td>\n",
       "      <td>1.0</td>\n",
       "      <td>3</td>\n",
       "    </tr>\n",
       "    <tr>\n",
       "      <th>329</th>\n",
       "      <td>0</td>\n",
       "      <td>Old School</td>\n",
       "      <td>2.0</td>\n",
       "      <td>2</td>\n",
       "      <td>2.0</td>\n",
       "      <td>2.0</td>\n",
       "      <td>3.0</td>\n",
       "      <td>1.0</td>\n",
       "      <td>2.0</td>\n",
       "      <td>1.0</td>\n",
       "      <td>5</td>\n",
       "    </tr>\n",
       "  </tbody>\n",
       "</table>\n",
       "<p>330 rows × 11 columns</p>\n",
       "</div>"
      ],
      "text/plain": [
       "     _rowstate_                    Movie  Gender Marital_Status  Sinage  \\\n",
       "0             0  Ferris Buellers Day Off     2.0              1     2.0   \n",
       "1             0  Ferris Buellers Day Off     2.0              2     1.0   \n",
       "2             0  Ferris Buellers Day Off     1.0              1     2.0   \n",
       "3             0  Ferris Buellers Day Off     2.0              1     1.0   \n",
       "4             0  Ferris Buellers Day Off     2.0              1     1.0   \n",
       "..          ...                      ...     ...            ...     ...   \n",
       "325           0               Old School     2.0              2     1.0   \n",
       "326           0               Old School     1.0              1     2.0   \n",
       "327           0               Old School     2.0              1     2.0   \n",
       "328           0               Old School     1.0              1     1.0   \n",
       "329           0               Old School     2.0              2     2.0   \n",
       "\n",
       "     Parking  Clean  Overall  Age  Income Hear_About  \n",
       "0        2.0    2.0      2.0  3.0     1.0          5  \n",
       "1        1.0    1.0      1.0  2.0     1.0          5  \n",
       "2        4.0    3.0      2.0  4.0     1.0          5  \n",
       "3        3.0    2.0      2.0  4.0     1.0          5  \n",
       "4        1.0    1.0      1.0  3.0     3.0          1  \n",
       "..       ...    ...      ...  ...     ...        ...  \n",
       "325      2.0    1.0      1.0  2.0     1.0          1  \n",
       "326      2.0    2.0      2.0  3.0     3.0          5  \n",
       "327      1.0    1.0      2.0  2.0     2.0          5  \n",
       "328      1.0    1.0      1.0  2.0     1.0          3  \n",
       "329      2.0    3.0      1.0  2.0     1.0          5  \n",
       "\n",
       "[330 rows x 11 columns]"
      ]
     },
     "execution_count": 160,
     "metadata": {},
     "output_type": "execute_result"
    }
   ],
   "source": [
    "Films.Marital_Status = np.where(Films.Marital_Status=='Married',1,Films.Marital_Status)\n",
    "Films.Marital_Status = np.where(Films.Marital_Status=='Single',2,Films.Marital_Status)\n",
    "Films.Marital_Status = np.where(Films.Marital_Status=='Slngle',2,Films.Marital_Status)\n",
    "Films.Marital_Status = np.where(Films.Marital_Status=='1',1,Films.Marital_Status)\n",
    "Films.Marital_Status = np.where(Films.Marital_Status=='2',2,Films.Marital_Status)\n",
    "Films.Marital_Status.fillna(Films.Marital_Status.mode,inplace=True)\n",
    "Films"
   ]
  },
  {
   "cell_type": "code",
   "execution_count": 161,
   "id": "dbff495a-cb33-422b-b486-0e3cadf6bb3b",
   "metadata": {},
   "outputs": [
    {
     "data": {
      "text/plain": [
       "array([1, 2, <bound method Series.mode of 0      1\n",
       "             1      2\n",
       "             2      1\n",
       "             3      1\n",
       "             4      1\n",
       "                   ..\n",
       "             325    2\n",
       "             326    1\n",
       "             327    1\n",
       "             328    1\n",
       "             329    2\n",
       "             Name: Marital_Status, Length: 330, dtype: object>],\n",
       "      dtype=object)"
      ]
     },
     "execution_count": 161,
     "metadata": {},
     "output_type": "execute_result"
    }
   ],
   "source": [
    "Films['Marital_Status'].unique()"
   ]
  },
  {
   "cell_type": "code",
   "execution_count": 195,
   "id": "e2b6e28c-f10a-42cb-8d48-883c040f5f2e",
   "metadata": {},
   "outputs": [],
   "source": [
    "Films.Gender = Films.Gender.astype('float64')\n",
    "Films.Marital_Status = Films.Marital_Status.astype('float64')"
   ]
  },
  {
   "cell_type": "code",
   "execution_count": 164,
   "id": "e16bba7f-b75d-4ac8-a460-027a8e5527fd",
   "metadata": {},
   "outputs": [
    {
     "data": {
      "text/plain": [
       "_rowstate_          int64\n",
       "Movie              object\n",
       "Gender            float64\n",
       "Marital_Status    float64\n",
       "Sinage            float64\n",
       "Parking           float64\n",
       "Clean             float64\n",
       "Overall           float64\n",
       "Age               float64\n",
       "Income            float64\n",
       "Hear_About         object\n",
       "dtype: object"
      ]
     },
     "execution_count": 164,
     "metadata": {},
     "output_type": "execute_result"
    }
   ],
   "source": [
    "Films.dtypes"
   ]
  },
  {
   "cell_type": "code",
   "execution_count": null,
   "id": "b05f280e-5afa-4fd7-aac4-ca4baf07fef8",
   "metadata": {},
   "outputs": [],
   "source": []
  },
  {
   "cell_type": "markdown",
   "id": "559ae4ed-65ac-4b90-8da3-4c2012c2e362",
   "metadata": {},
   "source": [
    "#### What is the overall level of customer satisfaction?"
   ]
  },
  {
   "cell_type": "code",
   "execution_count": 167,
   "id": "fcf9e936-bf8e-4b26-9f62-87a7fdd0c2a8",
   "metadata": {},
   "outputs": [
    {
     "data": {
      "text/html": [
       "<div>\n",
       "<style scoped>\n",
       "    .dataframe tbody tr th:only-of-type {\n",
       "        vertical-align: middle;\n",
       "    }\n",
       "\n",
       "    .dataframe tbody tr th {\n",
       "        vertical-align: top;\n",
       "    }\n",
       "\n",
       "    .dataframe thead th {\n",
       "        text-align: right;\n",
       "    }\n",
       "</style>\n",
       "<table border=\"1\" class=\"dataframe\">\n",
       "  <thead>\n",
       "    <tr style=\"text-align: right;\">\n",
       "      <th></th>\n",
       "      <th>Overall</th>\n",
       "      <th>Percent</th>\n",
       "    </tr>\n",
       "    <tr>\n",
       "      <th>Overall</th>\n",
       "      <th></th>\n",
       "      <th></th>\n",
       "    </tr>\n",
       "  </thead>\n",
       "  <tbody>\n",
       "    <tr>\n",
       "      <th>1.0</th>\n",
       "      <td>151</td>\n",
       "      <td>0.284369</td>\n",
       "    </tr>\n",
       "    <tr>\n",
       "      <th>2.0</th>\n",
       "      <td>160</td>\n",
       "      <td>0.301318</td>\n",
       "    </tr>\n",
       "    <tr>\n",
       "      <th>3.0</th>\n",
       "      <td>12</td>\n",
       "      <td>0.022599</td>\n",
       "    </tr>\n",
       "    <tr>\n",
       "      <th>4.0</th>\n",
       "      <td>1</td>\n",
       "      <td>0.001883</td>\n",
       "    </tr>\n",
       "    <tr>\n",
       "      <th>5.0</th>\n",
       "      <td>4</td>\n",
       "      <td>0.007533</td>\n",
       "    </tr>\n",
       "  </tbody>\n",
       "</table>\n",
       "</div>"
      ],
      "text/plain": [
       "         Overall   Percent\n",
       "Overall                   \n",
       "1.0          151  0.284369\n",
       "2.0          160  0.301318\n",
       "3.0           12  0.022599\n",
       "4.0            1  0.001883\n",
       "5.0            4  0.007533"
      ]
     },
     "execution_count": 167,
     "metadata": {},
     "output_type": "execute_result"
    }
   ],
   "source": [
    "Over_all = pd.DataFrame(Films.groupby('Overall').Overall.count())\n",
    "Over_all['Percent'] = Over_all.values/Films.Overall.sum().round(2)\n",
    "Over_all"
   ]
  },
  {
   "cell_type": "code",
   "execution_count": null,
   "id": "6e8945d1-5ae8-4e13-b54e-d7c29c6efda7",
   "metadata": {},
   "outputs": [],
   "source": []
  },
  {
   "cell_type": "markdown",
   "id": "87a3e954-b33d-4bce-84e2-f6453ef9e69c",
   "metadata": {},
   "source": [
    "#### What factors are linked to satisfaction?"
   ]
  },
  {
   "cell_type": "markdown",
   "id": "a7067b82-05d0-4dda-9134-d53134792306",
   "metadata": {},
   "source": [
    "### Null hypothesis and Alternate hypothesis are as below\n",
    "\n",
    "\n",
    "#### Null Hypothesis (H₀): Relation\n",
    "\n",
    "\n",
    "#### Alternative Hypothesis (Hₐ): No Relation\n",
    "\n",
    "### *Confidence level is = 95%*\n",
    "\n",
    "\n",
    "### *Significant level is (100-95=5%)*\n",
    "\n",
    "#### *The significance level is 5% (0.05)*\n",
    "\n",
    "\n",
    "### *P-critical = 0.05%*\n",
    "\n"
   ]
  },
  {
   "cell_type": "markdown",
   "id": "3fd7b05c-386c-4609-b5c3-3ffb294ccc5c",
   "metadata": {},
   "source": [
    "#### Data Set"
   ]
  },
  {
   "cell_type": "code",
   "execution_count": 172,
   "id": "71227ee6-0084-43ef-8d64-0c49f8c7f52c",
   "metadata": {},
   "outputs": [],
   "source": [
    "Sinage=Films.Sinage.dropna()\n",
    "Parking=Films.Parking.dropna()\n",
    "Clean=Films.Clean.dropna()\n",
    "Overall=Films.Overall.dropna()"
   ]
  },
  {
   "cell_type": "markdown",
   "id": "fbee1354-05c3-4a66-a85e-50c1da9c3e2d",
   "metadata": {},
   "source": [
    "#### Conducting Test"
   ]
  },
  {
   "cell_type": "code",
   "execution_count": 174,
   "id": "7911437f-acd4-4d54-8bea-b7cb871d2788",
   "metadata": {},
   "outputs": [
    {
     "data": {
      "text/plain": [
       "F_onewayResult(statistic=7.305073815114116, pvalue=7.381802207247581e-05)"
      ]
     },
     "execution_count": 174,
     "metadata": {},
     "output_type": "execute_result"
    }
   ],
   "source": [
    "satisfaction=stats.f_oneway(Sinage,Parking,Clean,Overall)\n",
    "satisfaction"
   ]
  },
  {
   "cell_type": "markdown",
   "id": "1a41d3f3-4e9a-4016-b2ce-baa29e83ec00",
   "metadata": {},
   "source": [
    "#### Comparing p-value with p-critical"
   ]
  },
  {
   "cell_type": "code",
   "execution_count": 175,
   "id": "43d6176d-cbf1-43eb-809c-e91db6f232ea",
   "metadata": {},
   "outputs": [
    {
     "name": "stdout",
     "output_type": "stream",
     "text": [
      "We reject null hypothesis\n",
      " Conclusion: No relation\n"
     ]
    }
   ],
   "source": [
    "p=satisfaction.pvalue\n",
    "if p<0.05:\n",
    "    print('We reject null hypothesis\\n Conclusion: No relation')\n",
    "else:\n",
    "    print('We failed to reject null hypothesis\\n Conclusion: Relation')"
   ]
  },
  {
   "cell_type": "markdown",
   "id": "f1d6bc9e-ad70-4c6b-b0b2-755dbb678076",
   "metadata": {},
   "source": [
    "#### What is the demographic profile of Film on the Rocks patrons?"
   ]
  },
  {
   "cell_type": "code",
   "execution_count": 177,
   "id": "5d3b0650-4660-45a2-b9b4-2fac22f2440b",
   "metadata": {},
   "outputs": [
    {
     "data": {
      "text/html": [
       "<div>\n",
       "<style scoped>\n",
       "    .dataframe tbody tr th:only-of-type {\n",
       "        vertical-align: middle;\n",
       "    }\n",
       "\n",
       "    .dataframe tbody tr th {\n",
       "        vertical-align: top;\n",
       "    }\n",
       "\n",
       "    .dataframe thead th {\n",
       "        text-align: right;\n",
       "    }\n",
       "</style>\n",
       "<table border=\"1\" class=\"dataframe\">\n",
       "  <thead>\n",
       "    <tr style=\"text-align: right;\">\n",
       "      <th></th>\n",
       "      <th>_rowstate_</th>\n",
       "      <th>Movie</th>\n",
       "      <th>Gender</th>\n",
       "      <th>Marital_Status</th>\n",
       "      <th>Sinage</th>\n",
       "      <th>Parking</th>\n",
       "      <th>Clean</th>\n",
       "      <th>Overall</th>\n",
       "      <th>Age</th>\n",
       "      <th>Income</th>\n",
       "      <th>Hear_About</th>\n",
       "    </tr>\n",
       "  </thead>\n",
       "  <tbody>\n",
       "    <tr>\n",
       "      <th>0</th>\n",
       "      <td>0</td>\n",
       "      <td>Ferris Buellers Day Off</td>\n",
       "      <td>2.0</td>\n",
       "      <td>1.0</td>\n",
       "      <td>2.0</td>\n",
       "      <td>2.0</td>\n",
       "      <td>2.0</td>\n",
       "      <td>2.0</td>\n",
       "      <td>3.0</td>\n",
       "      <td>1.0</td>\n",
       "      <td>5</td>\n",
       "    </tr>\n",
       "  </tbody>\n",
       "</table>\n",
       "</div>"
      ],
      "text/plain": [
       "   _rowstate_                    Movie  Gender  Marital_Status  Sinage  \\\n",
       "0           0  Ferris Buellers Day Off     2.0             1.0     2.0   \n",
       "\n",
       "   Parking  Clean  Overall  Age  Income Hear_About  \n",
       "0      2.0    2.0      2.0  3.0     1.0          5  "
      ]
     },
     "execution_count": 177,
     "metadata": {},
     "output_type": "execute_result"
    }
   ],
   "source": [
    "Films.head(1)"
   ]
  },
  {
   "cell_type": "code",
   "execution_count": 183,
   "id": "cd495ddb-848f-4b43-b1e2-3d01ea913624",
   "metadata": {},
   "outputs": [
    {
     "data": {
      "text/plain": [
       "Gender\n",
       "2.0    213\n",
       "1.0    117\n",
       "Name: Gender, dtype: int64"
      ]
     },
     "execution_count": 183,
     "metadata": {},
     "output_type": "execute_result"
    }
   ],
   "source": [
    "Films.groupby('Gender').Gender.count().sort_values(ascending=False)"
   ]
  },
  {
   "cell_type": "markdown",
   "id": "3571d2e5-f53b-4c71-aa8a-381d7f7e44af",
   "metadata": {},
   "source": [
    "#### Hence,Female audience are more"
   ]
  },
  {
   "cell_type": "code",
   "execution_count": 184,
   "id": "04593298-b315-4f54-85b5-e089dc568ec0",
   "metadata": {},
   "outputs": [
    {
     "data": {
      "text/plain": [
       "Marital_Status\n",
       "2.0    228\n",
       "1.0    100\n",
       "Name: Marital_Status, dtype: int64"
      ]
     },
     "execution_count": 184,
     "metadata": {},
     "output_type": "execute_result"
    }
   ],
   "source": [
    "Films.groupby('Marital_Status').Marital_Status.count().sort_values(ascending=False)"
   ]
  },
  {
   "cell_type": "markdown",
   "id": "90f3c4b6-7c0e-455f-8381-d612f917bc93",
   "metadata": {},
   "source": [
    "#### Hence,Single are mejority audience"
   ]
  },
  {
   "cell_type": "code",
   "execution_count": 196,
   "id": "cf41e20b-120e-49d4-9dc9-b61bc5dc4848",
   "metadata": {},
   "outputs": [
    {
     "data": {
      "text/plain": [
       "Age\n",
       "2.0    175\n",
       "3.0    117\n",
       "1.0     26\n",
       "4.0     10\n",
       "Name: Age, dtype: int64"
      ]
     },
     "execution_count": 196,
     "metadata": {},
     "output_type": "execute_result"
    }
   ],
   "source": [
    "Films.groupby('Age').Age.count().sort_values(ascending=False)"
   ]
  },
  {
   "cell_type": "markdown",
   "id": "b2265f7e-ad9a-410c-8b7a-58078dd4b9c3",
   "metadata": {},
   "source": [
    "#### Hence,the 13-30aged are mejority audience"
   ]
  },
  {
   "cell_type": "code",
   "execution_count": 197,
   "id": "37dde7e0-1ba7-4967-b6ec-8331c0c300c2",
   "metadata": {},
   "outputs": [
    {
     "data": {
      "text/plain": [
       "Income\n",
       "1.0    142\n",
       "3.0     90\n",
       "2.0     82\n",
       "Name: Income, dtype: int64"
      ]
     },
     "execution_count": 197,
     "metadata": {},
     "output_type": "execute_result"
    }
   ],
   "source": [
    "Films.groupby('Income').Income.count().sort_values(ascending=False)"
   ]
  },
  {
   "cell_type": "markdown",
   "id": "b4cd6029-21b9-4b36-81bb-1f4cb95fd9d2",
   "metadata": {},
   "source": [
    "#### Hence less then 50k salary are the majority audience"
   ]
  },
  {
   "cell_type": "code",
   "execution_count": null,
   "id": "00634129-96be-4cbb-b3cc-2c20aa91eb9c",
   "metadata": {},
   "outputs": [],
   "source": []
  },
  {
   "cell_type": "markdown",
   "id": "3b697380-2af3-4d9c-88fe-3863acb28648",
   "metadata": {},
   "source": [
    "#### In what media outlet(s) should the film series be advertised?"
   ]
  },
  {
   "cell_type": "code",
   "execution_count": 198,
   "id": "fd6f0768-707a-45da-a95d-e1f68567623a",
   "metadata": {},
   "outputs": [
    {
     "data": {
      "text/plain": [
       "Hear_About\n",
       "5    226\n",
       "4     41\n",
       "1     22\n",
       "Name: Hear_About, dtype: int64"
      ]
     },
     "execution_count": 198,
     "metadata": {},
     "output_type": "execute_result"
    }
   ],
   "source": [
    "Films.groupby('Hear_About').Hear_About.count().sort_values(ascending = False).head(3)"
   ]
  },
  {
   "cell_type": "markdown",
   "id": "15122d36-3f7d-4950-a204-f7dc3d926ba4",
   "metadata": {},
   "source": [
    "#### Hence,Word of mouth are the mejority Audience"
   ]
  },
  {
   "cell_type": "code",
   "execution_count": null,
   "id": "c84bce08-6eb8-4097-805c-0898d933665e",
   "metadata": {},
   "outputs": [],
   "source": []
  },
  {
   "cell_type": "code",
   "execution_count": null,
   "id": "02040c4b-bf53-49ac-a216-24645667cc89",
   "metadata": {},
   "outputs": [],
   "source": []
  },
  {
   "cell_type": "code",
   "execution_count": null,
   "id": "66484493-0517-4a26-b303-5562c92ce691",
   "metadata": {},
   "outputs": [],
   "source": []
  },
  {
   "cell_type": "code",
   "execution_count": null,
   "id": "90529889-9b3a-4fbc-934b-f742e44ab40a",
   "metadata": {},
   "outputs": [],
   "source": []
  },
  {
   "cell_type": "code",
   "execution_count": null,
   "id": "61850f52-ac7c-4f80-95eb-3642170f05e1",
   "metadata": {},
   "outputs": [],
   "source": []
  },
  {
   "cell_type": "code",
   "execution_count": null,
   "id": "d1482cb7-1d03-402f-b9ec-c7ae2c32cc4c",
   "metadata": {},
   "outputs": [],
   "source": []
  },
  {
   "cell_type": "code",
   "execution_count": null,
   "id": "d5abcf07-c2f1-44ae-8384-5a306c13d554",
   "metadata": {},
   "outputs": [],
   "source": []
  },
  {
   "cell_type": "code",
   "execution_count": null,
   "id": "4f26beb3-1506-4b6f-971a-844b79b85f4e",
   "metadata": {},
   "outputs": [],
   "source": []
  },
  {
   "cell_type": "code",
   "execution_count": null,
   "id": "1fcb6157-58e6-4a81-91f4-58b8d569cbbe",
   "metadata": {},
   "outputs": [],
   "source": []
  },
  {
   "cell_type": "code",
   "execution_count": null,
   "id": "6423bf9a-2c78-4207-9b23-27c9a1d807b4",
   "metadata": {},
   "outputs": [],
   "source": []
  },
  {
   "cell_type": "code",
   "execution_count": null,
   "id": "32d63819-16d4-492c-8f5c-c70907981fa9",
   "metadata": {},
   "outputs": [],
   "source": []
  },
  {
   "cell_type": "code",
   "execution_count": null,
   "id": "1659551b-2b07-4427-a9e4-fff45d8b99e7",
   "metadata": {},
   "outputs": [],
   "source": []
  },
  {
   "cell_type": "code",
   "execution_count": null,
   "id": "a7f78f24-3456-47a6-8375-7f44e98b4979",
   "metadata": {},
   "outputs": [],
   "source": []
  },
  {
   "cell_type": "code",
   "execution_count": null,
   "id": "9d3bc42c-cd77-4b94-8241-1ffb55f98304",
   "metadata": {},
   "outputs": [],
   "source": []
  },
  {
   "cell_type": "code",
   "execution_count": null,
   "id": "4aa058d9-6af9-4476-894b-f1acb83672d3",
   "metadata": {},
   "outputs": [],
   "source": []
  },
  {
   "cell_type": "code",
   "execution_count": null,
   "id": "bac42474-709f-4e46-887a-b1ca26b8ed0f",
   "metadata": {},
   "outputs": [],
   "source": []
  }
 ],
 "metadata": {
  "kernelspec": {
   "display_name": "Python 3 (ipykernel)",
   "language": "python",
   "name": "python3"
  },
  "language_info": {
   "codemirror_mode": {
    "name": "ipython",
    "version": 3
   },
   "file_extension": ".py",
   "mimetype": "text/x-python",
   "name": "python",
   "nbconvert_exporter": "python",
   "pygments_lexer": "ipython3",
   "version": "3.12.3"
  }
 },
 "nbformat": 4,
 "nbformat_minor": 5
}
